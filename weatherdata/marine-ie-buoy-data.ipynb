{
 "cells": [
  {
   "cell_type": "markdown",
   "id": "84d5d1d6",
   "metadata": {},
   "source": []
  },
  {
   "cell_type": "code",
   "execution_count": 7,
   "id": "087eb675",
   "metadata": {},
   "outputs": [
    {
     "ename": "NameError",
     "evalue": "name 'null' is not defined",
     "output_type": "error",
     "traceback": [
      "\u001B[0;31m---------------------------------------------------------------------------\u001B[0m",
      "\u001B[0;31mNameError\u001B[0m                                 Traceback (most recent call last)",
      "Cell \u001B[0;32mIn[7], line 5\u001B[0m\n\u001B[1;32m      1\u001B[0m json_file\u001B[38;5;241m=\u001B[39m{\n\u001B[1;32m      2\u001B[0m   \u001B[38;5;124m\"\u001B[39m\u001B[38;5;124mtable\u001B[39m\u001B[38;5;124m\"\u001B[39m: {\n\u001B[1;32m      3\u001B[0m     \u001B[38;5;124m\"\u001B[39m\u001B[38;5;124mcolumnNames\u001B[39m\u001B[38;5;124m\"\u001B[39m: [\u001B[38;5;124m\"\u001B[39m\u001B[38;5;124mstation_id\u001B[39m\u001B[38;5;124m\"\u001B[39m, \u001B[38;5;124m\"\u001B[39m\u001B[38;5;124mCallSign\u001B[39m\u001B[38;5;124m\"\u001B[39m, \u001B[38;5;124m\"\u001B[39m\u001B[38;5;124mlongitude\u001B[39m\u001B[38;5;124m\"\u001B[39m, \u001B[38;5;124m\"\u001B[39m\u001B[38;5;124mlatitude\u001B[39m\u001B[38;5;124m\"\u001B[39m, \u001B[38;5;124m\"\u001B[39m\u001B[38;5;124mtime\u001B[39m\u001B[38;5;124m\"\u001B[39m, \u001B[38;5;124m\"\u001B[39m\u001B[38;5;124mAtmosphericPressure\u001B[39m\u001B[38;5;124m\"\u001B[39m, \u001B[38;5;124m\"\u001B[39m\u001B[38;5;124mWindDirection\u001B[39m\u001B[38;5;124m\"\u001B[39m, \u001B[38;5;124m\"\u001B[39m\u001B[38;5;124mWindSpeed\u001B[39m\u001B[38;5;124m\"\u001B[39m, \u001B[38;5;124m\"\u001B[39m\u001B[38;5;124mGust\u001B[39m\u001B[38;5;124m\"\u001B[39m, \u001B[38;5;124m\"\u001B[39m\u001B[38;5;124mWaveHeight\u001B[39m\u001B[38;5;124m\"\u001B[39m, \u001B[38;5;124m\"\u001B[39m\u001B[38;5;124mWavePeriod\u001B[39m\u001B[38;5;124m\"\u001B[39m, \u001B[38;5;124m\"\u001B[39m\u001B[38;5;124mMeanWaveDirection\u001B[39m\u001B[38;5;124m\"\u001B[39m, \u001B[38;5;124m\"\u001B[39m\u001B[38;5;124mHmax\u001B[39m\u001B[38;5;124m\"\u001B[39m, \u001B[38;5;124m\"\u001B[39m\u001B[38;5;124mAirTemperature\u001B[39m\u001B[38;5;124m\"\u001B[39m, \u001B[38;5;124m\"\u001B[39m\u001B[38;5;124mDewPoint\u001B[39m\u001B[38;5;124m\"\u001B[39m, \u001B[38;5;124m\"\u001B[39m\u001B[38;5;124mSeaTemperature\u001B[39m\u001B[38;5;124m\"\u001B[39m, \u001B[38;5;124m\"\u001B[39m\u001B[38;5;124msalinity\u001B[39m\u001B[38;5;124m\"\u001B[39m, \u001B[38;5;124m\"\u001B[39m\u001B[38;5;124mRelativeHumidity\u001B[39m\u001B[38;5;124m\"\u001B[39m, \u001B[38;5;124m\"\u001B[39m\u001B[38;5;124mSprTp\u001B[39m\u001B[38;5;124m\"\u001B[39m, \u001B[38;5;124m\"\u001B[39m\u001B[38;5;124mThTp\u001B[39m\u001B[38;5;124m\"\u001B[39m, \u001B[38;5;124m\"\u001B[39m\u001B[38;5;124mTp\u001B[39m\u001B[38;5;124m\"\u001B[39m, \u001B[38;5;124m\"\u001B[39m\u001B[38;5;124mQC_Flag\u001B[39m\u001B[38;5;124m\"\u001B[39m],\n\u001B[1;32m      4\u001B[0m     \u001B[38;5;124m\"\u001B[39m\u001B[38;5;124mcolumnTypes\u001B[39m\u001B[38;5;124m\"\u001B[39m: [\u001B[38;5;124m\"\u001B[39m\u001B[38;5;124mString\u001B[39m\u001B[38;5;124m\"\u001B[39m, \u001B[38;5;124m\"\u001B[39m\u001B[38;5;124mString\u001B[39m\u001B[38;5;124m\"\u001B[39m, \u001B[38;5;124m\"\u001B[39m\u001B[38;5;124mdouble\u001B[39m\u001B[38;5;124m\"\u001B[39m, \u001B[38;5;124m\"\u001B[39m\u001B[38;5;124mdouble\u001B[39m\u001B[38;5;124m\"\u001B[39m, \u001B[38;5;124m\"\u001B[39m\u001B[38;5;124mString\u001B[39m\u001B[38;5;124m\"\u001B[39m, \u001B[38;5;124m\"\u001B[39m\u001B[38;5;124mdouble\u001B[39m\u001B[38;5;124m\"\u001B[39m, \u001B[38;5;124m\"\u001B[39m\u001B[38;5;124mdouble\u001B[39m\u001B[38;5;124m\"\u001B[39m, \u001B[38;5;124m\"\u001B[39m\u001B[38;5;124mdouble\u001B[39m\u001B[38;5;124m\"\u001B[39m, \u001B[38;5;124m\"\u001B[39m\u001B[38;5;124mdouble\u001B[39m\u001B[38;5;124m\"\u001B[39m, \u001B[38;5;124m\"\u001B[39m\u001B[38;5;124mdouble\u001B[39m\u001B[38;5;124m\"\u001B[39m, \u001B[38;5;124m\"\u001B[39m\u001B[38;5;124mdouble\u001B[39m\u001B[38;5;124m\"\u001B[39m, \u001B[38;5;124m\"\u001B[39m\u001B[38;5;124mdouble\u001B[39m\u001B[38;5;124m\"\u001B[39m, \u001B[38;5;124m\"\u001B[39m\u001B[38;5;124mdouble\u001B[39m\u001B[38;5;124m\"\u001B[39m, \u001B[38;5;124m\"\u001B[39m\u001B[38;5;124mdouble\u001B[39m\u001B[38;5;124m\"\u001B[39m, \u001B[38;5;124m\"\u001B[39m\u001B[38;5;124mdouble\u001B[39m\u001B[38;5;124m\"\u001B[39m, \u001B[38;5;124m\"\u001B[39m\u001B[38;5;124mdouble\u001B[39m\u001B[38;5;124m\"\u001B[39m, \u001B[38;5;124m\"\u001B[39m\u001B[38;5;124mdouble\u001B[39m\u001B[38;5;124m\"\u001B[39m, \u001B[38;5;124m\"\u001B[39m\u001B[38;5;124mdouble\u001B[39m\u001B[38;5;124m\"\u001B[39m, \u001B[38;5;124m\"\u001B[39m\u001B[38;5;124mdouble\u001B[39m\u001B[38;5;124m\"\u001B[39m, \u001B[38;5;124m\"\u001B[39m\u001B[38;5;124mdouble\u001B[39m\u001B[38;5;124m\"\u001B[39m, \u001B[38;5;124m\"\u001B[39m\u001B[38;5;124mdouble\u001B[39m\u001B[38;5;124m\"\u001B[39m, \u001B[38;5;124m\"\u001B[39m\u001B[38;5;124mint\u001B[39m\u001B[38;5;124m\"\u001B[39m],\n\u001B[0;32m----> 5\u001B[0m     \u001B[38;5;124m\"\u001B[39m\u001B[38;5;124mcolumnUnits\u001B[39m\u001B[38;5;124m\"\u001B[39m: [null, null, \u001B[38;5;124m\"\u001B[39m\u001B[38;5;124mdegrees_east\u001B[39m\u001B[38;5;124m\"\u001B[39m, \u001B[38;5;124m\"\u001B[39m\u001B[38;5;124mdegrees_north\u001B[39m\u001B[38;5;124m\"\u001B[39m, \u001B[38;5;124m\"\u001B[39m\u001B[38;5;124mUTC\u001B[39m\u001B[38;5;124m\"\u001B[39m, \u001B[38;5;124m\"\u001B[39m\u001B[38;5;124mmillibars\u001B[39m\u001B[38;5;124m\"\u001B[39m, \u001B[38;5;124m\"\u001B[39m\u001B[38;5;124mdegrees true\u001B[39m\u001B[38;5;124m\"\u001B[39m, \u001B[38;5;124m\"\u001B[39m\u001B[38;5;124mknots\u001B[39m\u001B[38;5;124m\"\u001B[39m, \u001B[38;5;124m\"\u001B[39m\u001B[38;5;124mknots\u001B[39m\u001B[38;5;124m\"\u001B[39m, \u001B[38;5;124m\"\u001B[39m\u001B[38;5;124mmeters\u001B[39m\u001B[38;5;124m\"\u001B[39m, \u001B[38;5;124m\"\u001B[39m\u001B[38;5;124mseconds\u001B[39m\u001B[38;5;124m\"\u001B[39m, \u001B[38;5;124m\"\u001B[39m\u001B[38;5;124mdegrees_true\u001B[39m\u001B[38;5;124m\"\u001B[39m, \u001B[38;5;124m\"\u001B[39m\u001B[38;5;124mmeters\u001B[39m\u001B[38;5;124m\"\u001B[39m, \u001B[38;5;124m\"\u001B[39m\u001B[38;5;124mdegrees_C\u001B[39m\u001B[38;5;124m\"\u001B[39m, \u001B[38;5;124m\"\u001B[39m\u001B[38;5;124mdegrees_C\u001B[39m\u001B[38;5;124m\"\u001B[39m, \u001B[38;5;124m\"\u001B[39m\u001B[38;5;124mdegrees_C\u001B[39m\u001B[38;5;124m\"\u001B[39m, \u001B[38;5;124m\"\u001B[39m\u001B[38;5;124mdimensionless\u001B[39m\u001B[38;5;124m\"\u001B[39m, \u001B[38;5;124m\"\u001B[39m\u001B[38;5;124mpercent\u001B[39m\u001B[38;5;124m\"\u001B[39m, \u001B[38;5;124m\"\u001B[39m\u001B[38;5;124mdegrees\u001B[39m\u001B[38;5;124m\"\u001B[39m, \u001B[38;5;124m\"\u001B[39m\u001B[38;5;124mdegrees_true\u001B[39m\u001B[38;5;124m\"\u001B[39m, \u001B[38;5;124m\"\u001B[39m\u001B[38;5;124mseconds\u001B[39m\u001B[38;5;124m\"\u001B[39m, null],\n\u001B[1;32m      6\u001B[0m     \u001B[38;5;124m\"\u001B[39m\u001B[38;5;124mrows\u001B[39m\u001B[38;5;124m\"\u001B[39m: [\n\u001B[1;32m      7\u001B[0m       [\u001B[38;5;124m\"\u001B[39m\u001B[38;5;124mM2\u001B[39m\u001B[38;5;124m\"\u001B[39m, \u001B[38;5;124m\"\u001B[39m\u001B[38;5;124m62091\u001B[39m\u001B[38;5;124m\"\u001B[39m, \u001B[38;5;241m-\u001B[39m\u001B[38;5;241m5.4302\u001B[39m, \u001B[38;5;241m53.4836\u001B[39m, \u001B[38;5;124m\"\u001B[39m\u001B[38;5;124m2023-12-04T20:00:00Z\u001B[39m\u001B[38;5;124m\"\u001B[39m, \u001B[38;5;241m1004.041\u001B[39m, \u001B[38;5;241m0\u001B[39m, \u001B[38;5;241m21.859\u001B[39m, \u001B[38;5;241m28.462\u001B[39m, \u001B[38;5;241m2.344\u001B[39m, \u001B[38;5;241m4.688\u001B[39m, \u001B[38;5;241m28\u001B[39m, \u001B[38;5;241m3.75\u001B[39m, \u001B[38;5;241m8.457\u001B[39m, null, \u001B[38;5;241m12.698\u001B[39m, \u001B[38;5;241m25\u001B[39m, \u001B[38;5;241m81.738\u001B[39m, \u001B[38;5;241m133.594\u001B[39m, \u001B[38;5;241m39.375\u001B[39m, \u001B[38;5;241m6.211\u001B[39m, \u001B[38;5;241m0\u001B[39m],\n\u001B[1;32m      8\u001B[0m       [\u001B[38;5;124m\"\u001B[39m\u001B[38;5;124mM3\u001B[39m\u001B[38;5;124m\"\u001B[39m, \u001B[38;5;124m\"\u001B[39m\u001B[38;5;124m62092\u001B[39m\u001B[38;5;124m\"\u001B[39m, \u001B[38;5;241m-\u001B[39m\u001B[38;5;241m10.548261\u001B[39m, \u001B[38;5;241m51.215956\u001B[39m, \u001B[38;5;124m\"\u001B[39m\u001B[38;5;124m2023-12-04T20:00:00Z\u001B[39m\u001B[38;5;124m\"\u001B[39m, \u001B[38;5;241m1013.843\u001B[39m, \u001B[38;5;241m330\u001B[39m, \u001B[38;5;241m19.809\u001B[39m, \u001B[38;5;241m25.046\u001B[39m, \u001B[38;5;241m2.344\u001B[39m, \u001B[38;5;241m5.625\u001B[39m, \u001B[38;5;241m323\u001B[39m, \u001B[38;5;241m4.219\u001B[39m, \u001B[38;5;241m9.531\u001B[39m, null, \u001B[38;5;241m11.466\u001B[39m, \u001B[38;5;241m35.0528\u001B[39m, \u001B[38;5;241m60.938\u001B[39m, \u001B[38;5;241m191.25\u001B[39m, \u001B[38;5;241m260.156\u001B[39m, \u001B[38;5;241m10.547\u001B[39m, \u001B[38;5;241m0\u001B[39m],\n\u001B[1;32m      9\u001B[0m       [\u001B[38;5;124m\"\u001B[39m\u001B[38;5;124mM4\u001B[39m\u001B[38;5;124m\"\u001B[39m, \u001B[38;5;124m\"\u001B[39m\u001B[38;5;124m62093\u001B[39m\u001B[38;5;124m\"\u001B[39m, \u001B[38;5;241m-\u001B[39m\u001B[38;5;241m9.999136\u001B[39m, \u001B[38;5;241m54.999967\u001B[39m, \u001B[38;5;124m\"\u001B[39m\u001B[38;5;124m2023-12-04T20:00:00Z\u001B[39m\u001B[38;5;124m\"\u001B[39m, \u001B[38;5;241m1012.878\u001B[39m, \u001B[38;5;241m17\u001B[39m, \u001B[38;5;241m15.939\u001B[39m, \u001B[38;5;241m21.29\u001B[39m, \u001B[38;5;241m2.109\u001B[39m, \u001B[38;5;241m5.391\u001B[39m, \u001B[38;5;241m8\u001B[39m, \u001B[38;5;241m3.906\u001B[39m, \u001B[38;5;241m9.287\u001B[39m, null, \u001B[38;5;241m11.299\u001B[39m, \u001B[38;5;241m35.17891\u001B[39m, \u001B[38;5;241m64.355\u001B[39m, \u001B[38;5;241m129.375\u001B[39m, \u001B[38;5;241m15.469\u001B[39m, \u001B[38;5;241m7.148\u001B[39m, \u001B[38;5;241m0\u001B[39m],\n\u001B[1;32m     10\u001B[0m       [\u001B[38;5;124m\"\u001B[39m\u001B[38;5;124mM5\u001B[39m\u001B[38;5;124m\"\u001B[39m, \u001B[38;5;124m\"\u001B[39m\u001B[38;5;124m62094\u001B[39m\u001B[38;5;124m\"\u001B[39m, \u001B[38;5;241m-\u001B[39m\u001B[38;5;241m6.704336\u001B[39m, \u001B[38;5;241m51.690425\u001B[39m, \u001B[38;5;124m\"\u001B[39m\u001B[38;5;124m2023-12-04T20:00:00Z\u001B[39m\u001B[38;5;124m\"\u001B[39m, \u001B[38;5;241m1007.214\u001B[39m, \u001B[38;5;241m333\u001B[39m, \u001B[38;5;241m26.526\u001B[39m, \u001B[38;5;241m33.699\u001B[39m, \u001B[38;5;241m2.578\u001B[39m, \u001B[38;5;241m5.391\u001B[39m, \u001B[38;5;241m308\u001B[39m, \u001B[38;5;241m4.063\u001B[39m, \u001B[38;5;241m7.041\u001B[39m, null, \u001B[38;5;241m12.285\u001B[39m, null, \u001B[38;5;241m79.297\u001B[39m, \u001B[38;5;241m142.031\u001B[39m, \u001B[38;5;241m312.188\u001B[39m, \u001B[38;5;241m6.211\u001B[39m, \u001B[38;5;241m0\u001B[39m],\n\u001B[1;32m     11\u001B[0m       [\u001B[38;5;124m\"\u001B[39m\u001B[38;5;124mM6\u001B[39m\u001B[38;5;124m\"\u001B[39m, \u001B[38;5;124m\"\u001B[39m\u001B[38;5;124m62095\u001B[39m\u001B[38;5;124m\"\u001B[39m, \u001B[38;5;241m-\u001B[39m\u001B[38;5;241m15.88135\u001B[39m, \u001B[38;5;241m53.07482\u001B[39m, \u001B[38;5;124m\"\u001B[39m\u001B[38;5;124m2023-12-04T20:00:00Z\u001B[39m\u001B[38;5;124m\"\u001B[39m, \u001B[38;5;241m1015.674\u001B[39m, \u001B[38;5;241m138\u001B[39m, \u001B[38;5;241m7.059\u001B[39m, \u001B[38;5;241m10.588\u001B[39m, \u001B[38;5;241m1.641\u001B[39m, \u001B[38;5;241m6.328\u001B[39m, \u001B[38;5;241m293\u001B[39m, \u001B[38;5;241m2.578\u001B[39m, \u001B[38;5;241m9.531\u001B[39m, null, \u001B[38;5;241m12.845\u001B[39m, \u001B[38;5;241m35.64583\u001B[39m, \u001B[38;5;241m56.055\u001B[39m, \u001B[38;5;241m41.484\u001B[39m, \u001B[38;5;241m260.156\u001B[39m, \u001B[38;5;241m9.727\u001B[39m, \u001B[38;5;241m0\u001B[39m],\n\u001B[1;32m     12\u001B[0m       [\u001B[38;5;124m\"\u001B[39m\u001B[38;5;124mM2\u001B[39m\u001B[38;5;124m\"\u001B[39m, \u001B[38;5;124m\"\u001B[39m\u001B[38;5;124m62091\u001B[39m\u001B[38;5;124m\"\u001B[39m, \u001B[38;5;241m-\u001B[39m\u001B[38;5;241m5.4302\u001B[39m, \u001B[38;5;241m53.4836\u001B[39m, \u001B[38;5;124m\"\u001B[39m\u001B[38;5;124m2023-12-04T21:00:00Z\u001B[39m\u001B[38;5;124m\"\u001B[39m, \u001B[38;5;241m1004.773\u001B[39m, \u001B[38;5;241m0\u001B[39m, \u001B[38;5;241m23.453\u001B[39m, \u001B[38;5;241m29.145\u001B[39m, \u001B[38;5;241m2.227\u001B[39m, \u001B[38;5;241m4.805\u001B[39m, \u001B[38;5;241m31\u001B[39m, \u001B[38;5;241m3.281\u001B[39m, \u001B[38;5;241m8.115\u001B[39m, null, \u001B[38;5;241m12.62\u001B[39m, \u001B[38;5;241m25\u001B[39m, \u001B[38;5;241m83.008\u001B[39m, \u001B[38;5;241m136.406\u001B[39m, \u001B[38;5;241m29.531\u001B[39m, \u001B[38;5;241m5.859\u001B[39m, \u001B[38;5;241m0\u001B[39m],\n\u001B[1;32m     13\u001B[0m       [\u001B[38;5;124m\"\u001B[39m\u001B[38;5;124mM3\u001B[39m\u001B[38;5;124m\"\u001B[39m, \u001B[38;5;124m\"\u001B[39m\u001B[38;5;124m62092\u001B[39m\u001B[38;5;124m\"\u001B[39m, \u001B[38;5;241m-\u001B[39m\u001B[38;5;241m10.548261\u001B[39m, \u001B[38;5;241m51.215956\u001B[39m, \u001B[38;5;124m\"\u001B[39m\u001B[38;5;124m2023-12-04T21:00:00Z\u001B[39m\u001B[38;5;124m\"\u001B[39m, \u001B[38;5;241m1014.6\u001B[39m, \u001B[38;5;241m315\u001B[39m, \u001B[38;5;241m20.037\u001B[39m, \u001B[38;5;241m23.566\u001B[39m, \u001B[38;5;241m2.461\u001B[39m, \u001B[38;5;241m5.859\u001B[39m, \u001B[38;5;241m322\u001B[39m, \u001B[38;5;241m3.75\u001B[39m, \u001B[38;5;241m9.482\u001B[39m, null, \u001B[38;5;241m11.45\u001B[39m, \u001B[38;5;241m35.0499\u001B[39m, \u001B[38;5;241m69.043\u001B[39m, \u001B[38;5;241m178.594\u001B[39m, \u001B[38;5;241m272.813\u001B[39m, \u001B[38;5;241m10.547\u001B[39m, \u001B[38;5;241m0\u001B[39m],\n\u001B[1;32m     14\u001B[0m       [\u001B[38;5;124m\"\u001B[39m\u001B[38;5;124mM4\u001B[39m\u001B[38;5;124m\"\u001B[39m, \u001B[38;5;124m\"\u001B[39m\u001B[38;5;124m62093\u001B[39m\u001B[38;5;124m\"\u001B[39m, \u001B[38;5;241m-\u001B[39m\u001B[38;5;241m9.999136\u001B[39m, \u001B[38;5;241m54.999967\u001B[39m, \u001B[38;5;124m\"\u001B[39m\u001B[38;5;124m2023-12-04T21:00:00Z\u001B[39m\u001B[38;5;124m\"\u001B[39m, \u001B[38;5;241m1013.232\u001B[39m, \u001B[38;5;241m16\u001B[39m, \u001B[38;5;241m15.711\u001B[39m, \u001B[38;5;241m20.72\u001B[39m, \u001B[38;5;241m1.992\u001B[39m, \u001B[38;5;241m5.273\u001B[39m, \u001B[38;5;241m356\u001B[39m, \u001B[38;5;241m3.281\u001B[39m, \u001B[38;5;241m9.141\u001B[39m, null, \u001B[38;5;241m11.279\u001B[39m, \u001B[38;5;241m35.18219\u001B[39m, \u001B[38;5;241m68.652\u001B[39m, \u001B[38;5;241m133.594\u001B[39m, \u001B[38;5;241m2.813\u001B[39m, \u001B[38;5;241m7.148\u001B[39m, \u001B[38;5;241m0\u001B[39m],\n\u001B[1;32m     15\u001B[0m       [\u001B[38;5;124m\"\u001B[39m\u001B[38;5;124mM5\u001B[39m\u001B[38;5;124m\"\u001B[39m, \u001B[38;5;124m\"\u001B[39m\u001B[38;5;124m62094\u001B[39m\u001B[38;5;124m\"\u001B[39m, \u001B[38;5;241m-\u001B[39m\u001B[38;5;241m6.704336\u001B[39m, \u001B[38;5;241m51.690425\u001B[39m, \u001B[38;5;124m\"\u001B[39m\u001B[38;5;124m2023-12-04T21:00:00Z\u001B[39m\u001B[38;5;124m\"\u001B[39m, \u001B[38;5;241m1007.861\u001B[39m, \u001B[38;5;241m331\u001B[39m, \u001B[38;5;241m24.25\u001B[39m, \u001B[38;5;241m31.308\u001B[39m, \u001B[38;5;241m2.578\u001B[39m, \u001B[38;5;241m5.391\u001B[39m, \u001B[38;5;241m316\u001B[39m, \u001B[38;5;241m4.219\u001B[39m, \u001B[38;5;241m7.529\u001B[39m, null, \u001B[38;5;241m12.281\u001B[39m, null, \u001B[38;5;241m79.883\u001B[39m, \u001B[38;5;241m140.625\u001B[39m, \u001B[38;5;241m313.594\u001B[39m, \u001B[38;5;241m6.211\u001B[39m, \u001B[38;5;241m0\u001B[39m],\n\u001B[1;32m     16\u001B[0m       [\u001B[38;5;124m\"\u001B[39m\u001B[38;5;124mM6\u001B[39m\u001B[38;5;124m\"\u001B[39m, \u001B[38;5;124m\"\u001B[39m\u001B[38;5;124m62095\u001B[39m\u001B[38;5;124m\"\u001B[39m, \u001B[38;5;241m-\u001B[39m\u001B[38;5;241m15.88135\u001B[39m, \u001B[38;5;241m53.07482\u001B[39m, \u001B[38;5;124m\"\u001B[39m\u001B[38;5;124m2023-12-04T21:00:00Z\u001B[39m\u001B[38;5;124m\"\u001B[39m, \u001B[38;5;241m1015.625\u001B[39m, \u001B[38;5;241m96\u001B[39m, \u001B[38;5;241m7.969\u001B[39m, \u001B[38;5;241m11.612\u001B[39m, \u001B[38;5;241m1.641\u001B[39m, \u001B[38;5;241m6.445\u001B[39m, \u001B[38;5;241m307\u001B[39m, \u001B[38;5;241m2.461\u001B[39m, \u001B[38;5;241m9.531\u001B[39m, null, \u001B[38;5;241m12.799\u001B[39m, \u001B[38;5;241m35.64072\u001B[39m, \u001B[38;5;241m65.43\u001B[39m, \u001B[38;5;241m53.789\u001B[39m, \u001B[38;5;241m232.031\u001B[39m, \u001B[38;5;241m9.141\u001B[39m, \u001B[38;5;241m0\u001B[39m]\n\u001B[1;32m     17\u001B[0m     ]\n\u001B[1;32m     18\u001B[0m   }\n\u001B[1;32m     19\u001B[0m }\n",
      "\u001B[0;31mNameError\u001B[0m: name 'null' is not defined"
     ]
    }
   ],
   "source": [
    "json_file={\n",
    "  \"table\": {\n",
    "    \"columnNames\": [\"station_id\", \"CallSign\", \"longitude\", \"latitude\", \"time\", \"AtmosphericPressure\", \"WindDirection\", \"WindSpeed\", \"Gust\", \"WaveHeight\", \"WavePeriod\", \"MeanWaveDirection\", \"Hmax\", \"AirTemperature\", \"DewPoint\", \"SeaTemperature\", \"salinity\", \"RelativeHumidity\", \"SprTp\", \"ThTp\", \"Tp\", \"QC_Flag\"],\n",
    "    \"columnTypes\": [\"String\", \"String\", \"double\", \"double\", \"String\", \"double\", \"double\", \"double\", \"double\", \"double\", \"double\", \"double\", \"double\", \"double\", \"double\", \"double\", \"double\", \"double\", \"double\", \"double\", \"double\", \"int\"],\n",
    "    \"columnUnits\": [null, null, \"degrees_east\", \"degrees_north\", \"UTC\", \"millibars\", \"degrees true\", \"knots\", \"knots\", \"meters\", \"seconds\", \"degrees_true\", \"meters\", \"degrees_C\", \"degrees_C\", \"degrees_C\", \"dimensionless\", \"percent\", \"degrees\", \"degrees_true\", \"seconds\", null],\n",
    "    \"rows\": [\n",
    "      [\"M2\", \"62091\", -5.4302, 53.4836, \"2023-12-04T20:00:00Z\", 1004.041, 0, 21.859, 28.462, 2.344, 4.688, 28, 3.75, 8.457, null, 12.698, 25, 81.738, 133.594, 39.375, 6.211, 0],\n",
    "      [\"M3\", \"62092\", -10.548261, 51.215956, \"2023-12-04T20:00:00Z\", 1013.843, 330, 19.809, 25.046, 2.344, 5.625, 323, 4.219, 9.531, null, 11.466, 35.0528, 60.938, 191.25, 260.156, 10.547, 0],\n",
    "      [\"M4\", \"62093\", -9.999136, 54.999967, \"2023-12-04T20:00:00Z\", 1012.878, 17, 15.939, 21.29, 2.109, 5.391, 8, 3.906, 9.287, null, 11.299, 35.17891, 64.355, 129.375, 15.469, 7.148, 0],\n",
    "      [\"M5\", \"62094\", -6.704336, 51.690425, \"2023-12-04T20:00:00Z\", 1007.214, 333, 26.526, 33.699, 2.578, 5.391, 308, 4.063, 7.041, null, 12.285, null, 79.297, 142.031, 312.188, 6.211, 0],\n",
    "      [\"M6\", \"62095\", -15.88135, 53.07482, \"2023-12-04T20:00:00Z\", 1015.674, 138, 7.059, 10.588, 1.641, 6.328, 293, 2.578, 9.531, null, 12.845, 35.64583, 56.055, 41.484, 260.156, 9.727, 0],\n",
    "      [\"M2\", \"62091\", -5.4302, 53.4836, \"2023-12-04T21:00:00Z\", 1004.773, 0, 23.453, 29.145, 2.227, 4.805, 31, 3.281, 8.115, null, 12.62, 25, 83.008, 136.406, 29.531, 5.859, 0],\n",
    "      [\"M3\", \"62092\", -10.548261, 51.215956, \"2023-12-04T21:00:00Z\", 1014.6, 315, 20.037, 23.566, 2.461, 5.859, 322, 3.75, 9.482, null, 11.45, 35.0499, 69.043, 178.594, 272.813, 10.547, 0],\n",
    "      [\"M4\", \"62093\", -9.999136, 54.999967, \"2023-12-04T21:00:00Z\", 1013.232, 16, 15.711, 20.72, 1.992, 5.273, 356, 3.281, 9.141, null, 11.279, 35.18219, 68.652, 133.594, 2.813, 7.148, 0],\n",
    "      [\"M5\", \"62094\", -6.704336, 51.690425, \"2023-12-04T21:00:00Z\", 1007.861, 331, 24.25, 31.308, 2.578, 5.391, 316, 4.219, 7.529, null, 12.281, null, 79.883, 140.625, 313.594, 6.211, 0],\n",
    "      [\"M6\", \"62095\", -15.88135, 53.07482, \"2023-12-04T21:00:00Z\", 1015.625, 96, 7.969, 11.612, 1.641, 6.445, 307, 2.461, 9.531, null, 12.799, 35.64072, 65.43, 53.789, 232.031, 9.141, 0]\n",
    "    ]\n",
    "  }\n",
    "}\n"
   ]
  },
  {
   "cell_type": "code",
   "execution_count": 1,
   "id": "619c7559",
   "metadata": {
    "ExecuteTime": {
     "end_time": "2023-12-11T19:46:45.407884Z",
     "start_time": "2023-12-11T19:46:45.399547Z"
    }
   },
   "outputs": [
    {
     "name": "stdout",
     "output_type": "stream",
     "text": [
      "2023-12-11T17:46:45Z\n",
      "https://erddap.marine.ie/erddap/tabledap/IWBNetwork.json?station_id%2CCallSign%2Clongitude%2Clatitude%2Ctime%2CAtmosphericPressure%2CWindDirection%2CWindSpeed%2CGust%2CWaveHeight%2CWavePeriod%2CMeanWaveDirection%2CHmax%2CAirTemperature%2CDewPoint%2CSeaTemperature%2Csalinity%2CRelativeHumidity%2CSprTp%2CThTp%2CTp%2CQC_Flag&time%3E=2023-12-11T17%3A46%3A45Z\n"
     ]
    }
   ],
   "source": [
    "from datetime import datetime, timedelta\n",
    "import urllib.parse\n",
    "\n",
    "# Calculate the current time minus 60 minutes\n",
    "time_threshold = datetime.utcnow() - timedelta(minutes=120)\n",
    "\n",
    "# Format the time in the required format (ISO 8601 format)\n",
    "formatted_time = time_threshold.strftime('%Y-%m-%dT%H:%M:%SZ')\n",
    "print(formatted_time)\n",
    "# Base URL without the time parameter\n",
    "base_url = \"https://erddap.marine.ie/erddap/tabledap/IWBNetwork.json?station_id%2CCallSign%2Clongitude%2Clatitude%2Ctime%2CAtmosphericPressure%2CWindDirection%2CWindSpeed%2CGust%2CWaveHeight%2CWavePeriod%2CMeanWaveDirection%2CHmax%2CAirTemperature%2CDewPoint%2CSeaTemperature%2Csalinity%2CRelativeHumidity%2CSprTp%2CThTp%2CTp%2CQC_Flag&time%3E=\"\n",
    "\n",
    "# Construct the final URL\n",
    "final_url = base_url + urllib.parse.quote(formatted_time)\n",
    "\n",
    "print(final_url)"
   ]
  },
  {
   "cell_type": "code",
   "execution_count": 2,
   "id": "4757c4d2",
   "metadata": {
    "scrolled": true,
    "ExecuteTime": {
     "end_time": "2023-12-11T19:47:03.180541Z",
     "start_time": "2023-12-11T19:47:00.602829Z"
    }
   },
   "outputs": [
    {
     "ename": "JSONDecodeError",
     "evalue": "Expecting value: line 1 column 1 (char 0)",
     "output_type": "error",
     "traceback": [
      "\u001B[0;31m---------------------------------------------------------------------------\u001B[0m",
      "\u001B[0;31mJSONDecodeError\u001B[0m                           Traceback (most recent call last)",
      "File \u001B[0;32m~/Documents/dev/CoastGuard-Weather/venv/lib/python3.11/site-packages/requests/models.py:971\u001B[0m, in \u001B[0;36mResponse.json\u001B[0;34m(self, **kwargs)\u001B[0m\n\u001B[1;32m    970\u001B[0m \u001B[38;5;28;01mtry\u001B[39;00m:\n\u001B[0;32m--> 971\u001B[0m     \u001B[38;5;28;01mreturn\u001B[39;00m \u001B[43mcomplexjson\u001B[49m\u001B[38;5;241;43m.\u001B[39;49m\u001B[43mloads\u001B[49m\u001B[43m(\u001B[49m\u001B[38;5;28;43mself\u001B[39;49m\u001B[38;5;241;43m.\u001B[39;49m\u001B[43mtext\u001B[49m\u001B[43m,\u001B[49m\u001B[43m \u001B[49m\u001B[38;5;241;43m*\u001B[39;49m\u001B[38;5;241;43m*\u001B[39;49m\u001B[43mkwargs\u001B[49m\u001B[43m)\u001B[49m\n\u001B[1;32m    972\u001B[0m \u001B[38;5;28;01mexcept\u001B[39;00m JSONDecodeError \u001B[38;5;28;01mas\u001B[39;00m e:\n\u001B[1;32m    973\u001B[0m     \u001B[38;5;66;03m# Catch JSON-related errors and raise as requests.JSONDecodeError\u001B[39;00m\n\u001B[1;32m    974\u001B[0m     \u001B[38;5;66;03m# This aliases json.JSONDecodeError and simplejson.JSONDecodeError\u001B[39;00m\n",
      "File \u001B[0;32m/Library/Frameworks/Python.framework/Versions/3.11/lib/python3.11/json/__init__.py:346\u001B[0m, in \u001B[0;36mloads\u001B[0;34m(s, cls, object_hook, parse_float, parse_int, parse_constant, object_pairs_hook, **kw)\u001B[0m\n\u001B[1;32m    343\u001B[0m \u001B[38;5;28;01mif\u001B[39;00m (\u001B[38;5;28mcls\u001B[39m \u001B[38;5;129;01mis\u001B[39;00m \u001B[38;5;28;01mNone\u001B[39;00m \u001B[38;5;129;01mand\u001B[39;00m object_hook \u001B[38;5;129;01mis\u001B[39;00m \u001B[38;5;28;01mNone\u001B[39;00m \u001B[38;5;129;01mand\u001B[39;00m\n\u001B[1;32m    344\u001B[0m         parse_int \u001B[38;5;129;01mis\u001B[39;00m \u001B[38;5;28;01mNone\u001B[39;00m \u001B[38;5;129;01mand\u001B[39;00m parse_float \u001B[38;5;129;01mis\u001B[39;00m \u001B[38;5;28;01mNone\u001B[39;00m \u001B[38;5;129;01mand\u001B[39;00m\n\u001B[1;32m    345\u001B[0m         parse_constant \u001B[38;5;129;01mis\u001B[39;00m \u001B[38;5;28;01mNone\u001B[39;00m \u001B[38;5;129;01mand\u001B[39;00m object_pairs_hook \u001B[38;5;129;01mis\u001B[39;00m \u001B[38;5;28;01mNone\u001B[39;00m \u001B[38;5;129;01mand\u001B[39;00m \u001B[38;5;129;01mnot\u001B[39;00m kw):\n\u001B[0;32m--> 346\u001B[0m     \u001B[38;5;28;01mreturn\u001B[39;00m \u001B[43m_default_decoder\u001B[49m\u001B[38;5;241;43m.\u001B[39;49m\u001B[43mdecode\u001B[49m\u001B[43m(\u001B[49m\u001B[43ms\u001B[49m\u001B[43m)\u001B[49m\n\u001B[1;32m    347\u001B[0m \u001B[38;5;28;01mif\u001B[39;00m \u001B[38;5;28mcls\u001B[39m \u001B[38;5;129;01mis\u001B[39;00m \u001B[38;5;28;01mNone\u001B[39;00m:\n",
      "File \u001B[0;32m/Library/Frameworks/Python.framework/Versions/3.11/lib/python3.11/json/decoder.py:337\u001B[0m, in \u001B[0;36mJSONDecoder.decode\u001B[0;34m(self, s, _w)\u001B[0m\n\u001B[1;32m    333\u001B[0m \u001B[38;5;250m\u001B[39m\u001B[38;5;124;03m\"\"\"Return the Python representation of ``s`` (a ``str`` instance\u001B[39;00m\n\u001B[1;32m    334\u001B[0m \u001B[38;5;124;03mcontaining a JSON document).\u001B[39;00m\n\u001B[1;32m    335\u001B[0m \n\u001B[1;32m    336\u001B[0m \u001B[38;5;124;03m\"\"\"\u001B[39;00m\n\u001B[0;32m--> 337\u001B[0m obj, end \u001B[38;5;241m=\u001B[39m \u001B[38;5;28;43mself\u001B[39;49m\u001B[38;5;241;43m.\u001B[39;49m\u001B[43mraw_decode\u001B[49m\u001B[43m(\u001B[49m\u001B[43ms\u001B[49m\u001B[43m,\u001B[49m\u001B[43m \u001B[49m\u001B[43midx\u001B[49m\u001B[38;5;241;43m=\u001B[39;49m\u001B[43m_w\u001B[49m\u001B[43m(\u001B[49m\u001B[43ms\u001B[49m\u001B[43m,\u001B[49m\u001B[43m \u001B[49m\u001B[38;5;241;43m0\u001B[39;49m\u001B[43m)\u001B[49m\u001B[38;5;241;43m.\u001B[39;49m\u001B[43mend\u001B[49m\u001B[43m(\u001B[49m\u001B[43m)\u001B[49m\u001B[43m)\u001B[49m\n\u001B[1;32m    338\u001B[0m end \u001B[38;5;241m=\u001B[39m _w(s, end)\u001B[38;5;241m.\u001B[39mend()\n",
      "File \u001B[0;32m/Library/Frameworks/Python.framework/Versions/3.11/lib/python3.11/json/decoder.py:355\u001B[0m, in \u001B[0;36mJSONDecoder.raw_decode\u001B[0;34m(self, s, idx)\u001B[0m\n\u001B[1;32m    354\u001B[0m \u001B[38;5;28;01mexcept\u001B[39;00m \u001B[38;5;167;01mStopIteration\u001B[39;00m \u001B[38;5;28;01mas\u001B[39;00m err:\n\u001B[0;32m--> 355\u001B[0m     \u001B[38;5;28;01mraise\u001B[39;00m JSONDecodeError(\u001B[38;5;124m\"\u001B[39m\u001B[38;5;124mExpecting value\u001B[39m\u001B[38;5;124m\"\u001B[39m, s, err\u001B[38;5;241m.\u001B[39mvalue) \u001B[38;5;28;01mfrom\u001B[39;00m \u001B[38;5;28;01mNone\u001B[39;00m\n\u001B[1;32m    356\u001B[0m \u001B[38;5;28;01mreturn\u001B[39;00m obj, end\n",
      "\u001B[0;31mJSONDecodeError\u001B[0m: Expecting value: line 1 column 1 (char 0)",
      "\nDuring handling of the above exception, another exception occurred:\n",
      "\u001B[0;31mJSONDecodeError\u001B[0m                           Traceback (most recent call last)",
      "Cell \u001B[0;32mIn[2], line 6\u001B[0m\n\u001B[1;32m      3\u001B[0m \u001B[38;5;28;01mimport\u001B[39;00m \u001B[38;5;21;01mjson\u001B[39;00m\n\u001B[1;32m      5\u001B[0m response \u001B[38;5;241m=\u001B[39m requests\u001B[38;5;241m.\u001B[39mget(final_url)\n\u001B[0;32m----> 6\u001B[0m json_file \u001B[38;5;241m=\u001B[39m \u001B[43mresponse\u001B[49m\u001B[38;5;241;43m.\u001B[39;49m\u001B[43mjson\u001B[49m\u001B[43m(\u001B[49m\u001B[43m)\u001B[49m\n\u001B[1;32m      8\u001B[0m column_names \u001B[38;5;241m=\u001B[39m json_file[\u001B[38;5;124m\"\u001B[39m\u001B[38;5;124mtable\u001B[39m\u001B[38;5;124m\"\u001B[39m][\u001B[38;5;124m\"\u001B[39m\u001B[38;5;124mcolumnNames\u001B[39m\u001B[38;5;124m\"\u001B[39m]\n\u001B[1;32m      9\u001B[0m rows \u001B[38;5;241m=\u001B[39m json_file[\u001B[38;5;124m\"\u001B[39m\u001B[38;5;124mtable\u001B[39m\u001B[38;5;124m\"\u001B[39m][\u001B[38;5;124m\"\u001B[39m\u001B[38;5;124mrows\u001B[39m\u001B[38;5;124m\"\u001B[39m]\n",
      "File \u001B[0;32m~/Documents/dev/CoastGuard-Weather/venv/lib/python3.11/site-packages/requests/models.py:975\u001B[0m, in \u001B[0;36mResponse.json\u001B[0;34m(self, **kwargs)\u001B[0m\n\u001B[1;32m    971\u001B[0m     \u001B[38;5;28;01mreturn\u001B[39;00m complexjson\u001B[38;5;241m.\u001B[39mloads(\u001B[38;5;28mself\u001B[39m\u001B[38;5;241m.\u001B[39mtext, \u001B[38;5;241m*\u001B[39m\u001B[38;5;241m*\u001B[39mkwargs)\n\u001B[1;32m    972\u001B[0m \u001B[38;5;28;01mexcept\u001B[39;00m JSONDecodeError \u001B[38;5;28;01mas\u001B[39;00m e:\n\u001B[1;32m    973\u001B[0m     \u001B[38;5;66;03m# Catch JSON-related errors and raise as requests.JSONDecodeError\u001B[39;00m\n\u001B[1;32m    974\u001B[0m     \u001B[38;5;66;03m# This aliases json.JSONDecodeError and simplejson.JSONDecodeError\u001B[39;00m\n\u001B[0;32m--> 975\u001B[0m     \u001B[38;5;28;01mraise\u001B[39;00m RequestsJSONDecodeError(e\u001B[38;5;241m.\u001B[39mmsg, e\u001B[38;5;241m.\u001B[39mdoc, e\u001B[38;5;241m.\u001B[39mpos)\n",
      "\u001B[0;31mJSONDecodeError\u001B[0m: Expecting value: line 1 column 1 (char 0)"
     ]
    }
   ],
   "source": [
    "# Extract column names and rows\n",
    "import requests\n",
    "import json\n",
    "\n",
    "response = requests.get(final_url)\n",
    "json_file = response.json()\n",
    "\n",
    "column_names = json_file[\"table\"][\"columnNames\"]\n",
    "rows = json_file[\"table\"][\"rows\"]\n",
    "\n",
    "print(column_names)\n",
    "# Convert rows to list of dictionaries\n",
    "list_of_dicts = [dict(zip(column_names, row)) for row in rows]\n",
    "\n",
    "# Display the first few dictionaries for verification\n",
    "print(list_of_dicts[:3])  # Displaying the first three dictionaries for brevity"
   ]
  },
  {
   "cell_type": "markdown",
   "id": "040d027f",
   "metadata": {},
   "source": [
    "Column units"
   ]
  },
  {
   "cell_type": "code",
   "execution_count": 21,
   "id": "cdd12366",
   "metadata": {},
   "outputs": [
    {
     "name": "stdout",
     "output_type": "stream",
     "text": [
      "[None, None, 'degrees_east', 'degrees_north', 'UTC', 'millibars', 'degrees true', 'knots', 'knots', 'meters', 'seconds', 'degrees_true', 'meters', 'degrees_C', 'degrees_C', 'degrees_C', 'dimensionless', 'percent', 'degrees', 'degrees_true', 'seconds', None]\n"
     ]
    }
   ],
   "source": [
    "column_units = json_file[\"table\"][\"columnUnits\"]\n",
    "print(column_units)"
   ]
  },
  {
   "cell_type": "code",
   "execution_count": 29,
   "id": "89cea158",
   "metadata": {},
   "outputs": [
    {
     "name": "stdout",
     "output_type": "stream",
     "text": [
      "station_id : None\n",
      "CallSign : None\n",
      "longitude : degrees_east\n",
      "latitude : degrees_north\n",
      "time : UTC\n",
      "AtmosphericPressure : millibars\n",
      "WindDirection : degrees true\n",
      "WindSpeed : knots\n",
      "Gust : knots\n",
      "WaveHeight : meters\n",
      "WavePeriod : seconds\n",
      "MeanWaveDirection : degrees_true\n",
      "Hmax : meters\n",
      "AirTemperature : degrees_C\n",
      "DewPoint : degrees_C\n",
      "SeaTemperature : degrees_C\n",
      "salinity : dimensionless\n",
      "RelativeHumidity : percent\n",
      "SprTp : degrees\n",
      "ThTp : degrees_true\n",
      "Tp : seconds\n",
      "QC_Flag : None\n"
     ]
    }
   ],
   "source": [
    "units_dict = dict(zip(column_names, column_units))\n",
    "\n",
    "for key, value in units_dict.items():\n",
    "    print(f'{key} : {value}')"
   ]
  },
  {
   "cell_type": "markdown",
   "id": "f3ae369b",
   "metadata": {},
   "source": [
    "Extracting buoy reports from met.ie buoy website"
   ]
  },
  {
   "cell_type": "code",
   "execution_count": 12,
   "id": "9f4dffaa",
   "metadata": {
    "ExecuteTime": {
     "end_time": "2023-12-11T23:38:37.148491Z",
     "start_time": "2023-12-11T23:38:36.954965Z"
    }
   },
   "outputs": [
    {
     "name": "stdout",
     "output_type": "stream",
     "text": [
      "{'ID': '694890', 'name': 'M2', 'wmoID': '62091', 'stationId': '', 'time': '10 Dec 22:00', 'pressure': '989.4', 'windDir': '294', 'windSpeed': '59', 'windGust': '76', 'windGustDir': '', 'temp': '10.4', 'dewPoint': '7.3', 'humidity': '81', 'period': '6.2', 'height': '3.9', 'waveDir': '', 'seaTemp': '12.5', 'reportDate': '10-12-2023', 'reportTime': '22:00', 'updated_At': '2023-12-10 22:20:48', 'created_at': '2023-12-10T22:20:48.000000Z'}\n",
      "{'ID': '694890', 'stationId': 'M2', 'time': '2023-12-10 22:20:48', 'windGustDir': '', 'reportDate': '10-12-2023', 'reportTime': '22:00', 'created_at': '2023-12-10T22:20:48.000000Z', 'CallSign': '62091', 'AtmosphericPressure': '989.4', 'WindDirection': '294', 'WindSpeed': '59', 'Gust': '76', 'WaveHeight': '3.9', 'WavePeriod': '6.2', 'MeanWaveDirection': '', 'AirTemperature': '10.4', 'DewPoint': '7.3', 'SeaTemperature': '12.5', 'RelativeHumidity': '81'}\n"
     ]
    }
   ],
   "source": [
    "import requests\n",
    "import csv\n",
    "from io import StringIO\n",
    "\n",
    "def download_csv(url):\n",
    "    response = requests.get(url)\n",
    "    response.raise_for_status()\n",
    "    return response.text\n",
    "\n",
    "def process_csv(csv_data):\n",
    "    data = []\n",
    "    csv_reader = csv.DictReader(StringIO(csv_data))\n",
    "    for row in csv_reader:\n",
    "        data.append(row)\n",
    "    return data\n",
    "\n",
    "url = \"https://www.met.ie/forecasts/marine-inland-lakes/buoys/download/M2\"\n",
    "\n",
    "try:\n",
    "    csv_data = download_csv(url)\n",
    "    data_list = process_csv(csv_data)\n",
    "    print(data_list[0])\n",
    "    \n",
    "    def update_dict(data):\n",
    "        # Move 'name' value to 'stationId'\n",
    "        data['stationId'] = data.pop('name')\n",
    "        # Rename 'wmoID' to 'CallSign'\n",
    "        data['CallSign'] = data.pop('wmoID')\n",
    "        data['time'] = data.pop('updated_At')\n",
    "        data['AtmosphericPressure'] = data.pop('pressure')\n",
    "        data['WindDirection'] = data.pop('windDir')\n",
    "        data['WindSpeed'] = data.pop('windSpeed')\n",
    "        data['Gust'] = data.pop('windGust')\n",
    "        data['WaveHeight'] = data.pop('height')\n",
    "        data['WavePeriod'] = data.pop('period')\n",
    "        data['MeanWaveDirection'] = data.pop('waveDir')\n",
    "        data['AirTemperature'] = data.pop('temp')\n",
    "        data['DewPoint'] = data.pop('dewPoint')\n",
    "        data['SeaTemperature'] = data.pop('seaTemp')\n",
    "        data['RelativeHumidity'] = data.pop('humidity')\n",
    "        return data\n",
    "\n",
    "# Update each dictionary in the list\n",
    "    updated_data_list = [update_dict(data) for data in data_list]\n",
    "    \n",
    "# Print the updated list\n",
    "    print(updated_data_list[0])\n",
    "    \n",
    "\n",
    "except Exception as e:\n",
    "    print(f\"An error occurred: {e}\")\n"
   ]
  },
  {
   "cell_type": "markdown",
   "source": [],
   "metadata": {
    "collapsed": false
   },
   "id": "efec393708100947"
  },
  {
   "cell_type": "code",
   "execution_count": null,
   "outputs": [],
   "source": [],
   "metadata": {
    "collapsed": false
   },
   "id": "d37849d9b1c63c9b"
  }
 ],
 "metadata": {
  "kernelspec": {
   "display_name": "Python 3 (ipykernel)",
   "language": "python",
   "name": "python3"
  },
  "language_info": {
   "codemirror_mode": {
    "name": "ipython",
    "version": 3
   },
   "file_extension": ".py",
   "mimetype": "text/x-python",
   "name": "python",
   "nbconvert_exporter": "python",
   "pygments_lexer": "ipython3",
   "version": "3.11.5"
  }
 },
 "nbformat": 4,
 "nbformat_minor": 5
}
