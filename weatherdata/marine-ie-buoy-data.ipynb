{
 "cells": [
  {
   "cell_type": "markdown",
   "id": "84d5d1d6",
   "metadata": {},
   "source": []
  },
  {
   "cell_type": "code",
   "execution_count": 39,
   "id": "087eb675",
   "metadata": {},
   "outputs": [],
   "source": [
    "json_file={\n",
    "  \"table\": {\n",
    "    \"columnNames\": [\"station_id\", \"CallSign\", \"longitude\", \"latitude\", \"time\", \"AtmosphericPressure\", \"WindDirection\", \"WindSpeed\", \"Gust\", \"WaveHeight\", \"WavePeriod\", \"MeanWaveDirection\", \"Hmax\", \"AirTemperature\", \"DewPoint\", \"SeaTemperature\", \"salinity\", \"RelativeHumidity\", \"SprTp\", \"ThTp\", \"Tp\", \"QC_Flag\"],\n",
    "    \"columnTypes\": [\"String\", \"String\", \"double\", \"double\", \"String\", \"double\", \"double\", \"double\", \"double\", \"double\", \"double\", \"double\", \"double\", \"double\", \"double\", \"double\", \"double\", \"double\", \"double\", \"double\", \"double\", \"int\"],\n",
    "    \"columnUnits\": [None, None, \"degrees_east\", \"degrees_north\", \"UTC\", \"millibars\", \"degrees true\", \"knots\", \"knots\", \"meters\", \"seconds\", \"degrees_true\", \"meters\", \"degrees_C\", \"degrees_C\", \"degrees_C\", \"dimensionless\", \"percent\", \"degrees\", \"degrees_true\", \"seconds\", None],\n",
    "    \"rows\": [\n",
    "      [\"M2\", \"62091\", -5.4302, 53.4836, \"2023-12-04T20:00:00Z\", 1004.041, 0, 21.859, 28.462, 2.344, 4.688, 28, 3.75, 8.457, None, 12.698, 25, 81.738, 133.594, 39.375, 6.211, 0],\n",
    "      [\"M3\", \"62092\", -10.548261, 51.215956, \"2023-12-04T20:00:00Z\", 1013.843, 330, 19.809, 25.046, 2.344, 5.625, 323, 4.219, 9.531, None, 11.466, 35.0528, 60.938, 191.25, 260.156, 10.547, 0],\n",
    "      [\"M4\", \"62093\", -9.999136, 54.999967, \"2023-12-04T20:00:00Z\", 1012.878, 17, 15.939, 21.29, 2.109, 5.391, 8, 3.906, 9.287, None, 11.299, 35.17891, 64.355, 129.375, 15.469, 7.148, 0],\n",
    "      [\"M5\", \"62094\", -6.704336, 51.690425, \"2023-12-04T20:00:00Z\", 1007.214, 333, 26.526, 33.699, 2.578, 5.391, 308, 4.063, 7.041, None, 12.285, None, 79.297, 142.031, 312.188, 6.211, 0],\n",
    "      [\"M6\", \"62095\", -15.88135, 53.07482, \"2023-12-04T20:00:00Z\", 1015.674, 138, 7.059, 10.588, 1.641, 6.328, 293, 2.578, 9.531, None, 12.845, 35.64583, 56.055, 41.484, 260.156, 9.727, 0],\n",
    "      [\"M2\", \"62091\", -5.4302, 53.4836, \"2023-12-04T21:00:00Z\", 1004.773, 0, 23.453, 29.145, 2.227, 4.805, 31, 3.281, 8.115, None, 12.62, 25, 83.008, 136.406, 29.531, 5.859, 0],\n",
    "      [\"M3\", \"62092\", -10.548261, 51.215956, \"2023-12-04T21:00:00Z\", 1014.6, 315, 20.037, 23.566, 2.461, 5.859, 322, 3.75, 9.482, None, 11.45, 35.0499, 69.043, 178.594, 272.813, 10.547, 0],\n",
    "      [\"M4\", \"62093\", -9.999136, 54.999967, \"2023-12-04T21:00:00Z\", 1013.232, 16, 15.711, 20.72, 1.992, 5.273, 356, 3.281, 9.141, None, 11.279, 35.18219, 68.652, 133.594, 2.813, 7.148, 0],\n",
    "      [\"M5\", \"62094\", -6.704336, 51.690425, \"2023-12-04T21:00:00Z\", 1007.861, 331, 24.25, 31.308, 2.578, 5.391, 316, 4.219, 7.529, None, 12.281, None, 79.883, 140.625, 313.594, 6.211, 0],\n",
    "      [\"M6\", \"62095\", -15.88135, 53.07482, \"2023-12-04T21:00:00Z\", 1015.625, 96, 7.969, 11.612, 1.641, 6.445, 307, 2.461, 9.531, None, 12.799, 35.64072, 65.43, 53.789, 232.031, 9.141, 0]\n",
    "    ]\n",
    "  }\n",
    "}\n"
   ]
  },
  {
   "cell_type": "code",
   "execution_count": 40,
   "id": "619c7559",
   "metadata": {
    "ExecuteTime": {
     "end_time": "2023-12-11T19:46:45.407884Z",
     "start_time": "2023-12-11T19:46:45.399547Z"
    }
   },
   "outputs": [
    {
     "name": "stdout",
     "output_type": "stream",
     "text": [
      "2024-06-08T10:01:11Z\n",
      "https://erddap.marine.ie/erddap/tabledap/IWBNetwork.json?station_id%2CCallSign%2Clongitude%2Clatitude%2Ctime%2CAtmosphericPressure%2CWindDirection%2CWindSpeed%2CGust%2CWaveHeight%2CWavePeriod%2CMeanWaveDirection%2CHmax%2CAirTemperature%2CDewPoint%2CSeaTemperature%2Csalinity%2CRelativeHumidity%2CSprTp%2CThTp%2CTp%2CQC_Flag&time%3E=2024-06-08T10%3A01%3A11Z\n"
     ]
    },
    {
     "name": "stderr",
     "output_type": "stream",
     "text": [
      "C:\\Users\\Fujitsu\\AppData\\Local\\Temp\\ipykernel_17360\\2042600507.py:5: DeprecationWarning: datetime.datetime.utcnow() is deprecated and scheduled for removal in a future version. Use timezone-aware objects to represent datetimes in UTC: datetime.datetime.now(datetime.UTC).\n",
      "  time_threshold = datetime.utcnow() - timedelta(minutes=120)\n"
     ]
    }
   ],
   "source": [
    "from datetime import datetime, timedelta\n",
    "import urllib.parse\n",
    "\n",
    "# Calculate the current time minus 60 minutes\n",
    "time_threshold = datetime.utcnow() - timedelta(minutes=120)\n",
    "\n",
    "# Format the time in the required format (ISO 8601 format)\n",
    "formatted_time = time_threshold.strftime('%Y-%m-%dT%H:%M:%SZ')\n",
    "print(formatted_time)\n",
    "# Base URL without the time parameter\n",
    "base_url = \"https://erddap.marine.ie/erddap/tabledap/IWBNetwork.json?station_id%2CCallSign%2Clongitude%2Clatitude%2Ctime%2CAtmosphericPressure%2CWindDirection%2CWindSpeed%2CGust%2CWaveHeight%2CWavePeriod%2CMeanWaveDirection%2CHmax%2CAirTemperature%2CDewPoint%2CSeaTemperature%2Csalinity%2CRelativeHumidity%2CSprTp%2CThTp%2CTp%2CQC_Flag&time%3E=\"\n",
    "\n",
    "# Construct the final URL\n",
    "final_url = base_url + urllib.parse.quote(formatted_time)\n",
    "\n",
    "print(final_url)"
   ]
  },
  {
   "cell_type": "code",
   "execution_count": 41,
   "id": "4757c4d2",
   "metadata": {
    "ExecuteTime": {
     "end_time": "2023-12-11T19:47:03.180541Z",
     "start_time": "2023-12-11T19:47:00.602829Z"
    },
    "scrolled": true
   },
   "outputs": [
    {
     "name": "stdout",
     "output_type": "stream",
     "text": [
      "['station_id', 'CallSign', 'longitude', 'latitude', 'time', 'AtmosphericPressure', 'WindDirection', 'WindSpeed', 'Gust', 'WaveHeight', 'WavePeriod', 'MeanWaveDirection', 'Hmax', 'AirTemperature', 'DewPoint', 'SeaTemperature', 'salinity', 'RelativeHumidity', 'SprTp', 'ThTp', 'Tp', 'QC_Flag']\n",
      "[{'station_id': 'M2', 'CallSign': '62091', 'longitude': -5.4302, 'latitude': 53.4836, 'time': '2024-06-08T11:00:00Z', 'AtmosphericPressure': 1014.661, 'WindDirection': 320, 'WindSpeed': 13.434, 'Gust': 17.646, 'WaveHeight': 0.938, 'WavePeriod': 4.102, 'MeanWaveDirection': 319, 'Hmax': 1.406, 'AirTemperature': 11.973, 'DewPoint': None, 'SeaTemperature': 12.188, 'salinity': 34.21188, 'RelativeHumidity': 66.211, 'SprTp': 201.094, 'ThTp': 327.656, 'Tp': 5.039, 'QC_Flag': 0}, {'station_id': 'M3', 'CallSign': '62092', 'longitude': -10.548261, 'latitude': 51.215956, 'time': '2024-06-08T11:00:00Z', 'AtmosphericPressure': 1019.128, 'WindDirection': 346, 'WindSpeed': 14.573, 'Gust': 19.923, 'WaveHeight': 2.109, 'WavePeriod': 5.742, 'MeanWaveDirection': 319, 'Hmax': 2.969, 'AirTemperature': 12.9, 'DewPoint': None, 'SeaTemperature': 13.768, 'salinity': 34.79279, 'RelativeHumidity': 72.168, 'SprTp': 85.781, 'ThTp': 337.5, 'Tp': 9.961, 'QC_Flag': 0}, {'station_id': 'M4', 'CallSign': '62093', 'longitude': -9.999136, 'latitude': 54.999967, 'time': '2024-06-08T11:00:00Z', 'AtmosphericPressure': 1017.151, 'WindDirection': 309, 'WindSpeed': 13.776, 'Gust': 21.062, 'WaveHeight': 3.047, 'WavePeriod': 6.445, 'MeanWaveDirection': 325, 'Hmax': 6.094, 'AirTemperature': 11.436, 'DewPoint': None, 'SeaTemperature': 12.761, 'salinity': 35.00221, 'RelativeHumidity': 69.727, 'SprTp': 126.563, 'ThTp': 344.531, 'Tp': 9.961, 'QC_Flag': 0}]\n"
     ]
    }
   ],
   "source": [
    "# Extract column names and rows\n",
    "import requests\n",
    "import json\n",
    "\n",
    "response = requests.get(final_url)\n",
    "json_file = response.json()\n",
    "\n",
    "column_names = json_file[\"table\"][\"columnNames\"]\n",
    "rows = json_file[\"table\"][\"rows\"]\n",
    "\n",
    "print(column_names)\n",
    "# Convert rows to list of dictionaries\n",
    "list_of_dicts = [dict(zip(column_names, row)) for row in rows]\n",
    "\n",
    "# Display the first few dictionaries for verification\n",
    "print(list_of_dicts[:3])  # Displaying the first three dictionaries for brevity"
   ]
  },
  {
   "cell_type": "markdown",
   "id": "040d027f",
   "metadata": {},
   "source": [
    "Column units"
   ]
  },
  {
   "cell_type": "code",
   "execution_count": 42,
   "id": "cdd12366",
   "metadata": {},
   "outputs": [
    {
     "name": "stdout",
     "output_type": "stream",
     "text": [
      "[None, None, 'degrees_east', 'degrees_north', 'UTC', 'millibars', 'degrees true', 'knots', 'knots', 'meters', 'seconds', 'degrees_true', 'meters', 'degrees_C', 'degrees_C', 'degrees_C', 'dimensionless', 'percent', 'degrees', 'degrees_true', 'seconds', None]\n"
     ]
    }
   ],
   "source": [
    "column_units = json_file[\"table\"][\"columnUnits\"]\n",
    "print(column_units)"
   ]
  },
  {
   "cell_type": "code",
   "execution_count": 43,
   "id": "89cea158",
   "metadata": {},
   "outputs": [
    {
     "name": "stdout",
     "output_type": "stream",
     "text": [
      "station_id : None\n",
      "CallSign : None\n",
      "longitude : degrees_east\n",
      "latitude : degrees_north\n",
      "time : UTC\n",
      "AtmosphericPressure : millibars\n",
      "WindDirection : degrees true\n",
      "WindSpeed : knots\n",
      "Gust : knots\n",
      "WaveHeight : meters\n",
      "WavePeriod : seconds\n",
      "MeanWaveDirection : degrees_true\n",
      "Hmax : meters\n",
      "AirTemperature : degrees_C\n",
      "DewPoint : degrees_C\n",
      "SeaTemperature : degrees_C\n",
      "salinity : dimensionless\n",
      "RelativeHumidity : percent\n",
      "SprTp : degrees\n",
      "ThTp : degrees_true\n",
      "Tp : seconds\n",
      "QC_Flag : None\n"
     ]
    }
   ],
   "source": [
    "units_dict = dict(zip(column_names, column_units))\n",
    "\n",
    "for key, value in units_dict.items():\n",
    "    print(f'{key} : {value}')"
   ]
  },
  {
   "cell_type": "markdown",
   "id": "f3ae369b",
   "metadata": {},
   "source": [
    "Extracting buoy reports from met.ie buoy website"
   ]
  },
  {
   "cell_type": "code",
   "execution_count": 44,
   "id": "9f4dffaa",
   "metadata": {
    "ExecuteTime": {
     "end_time": "2023-12-11T23:38:37.148491Z",
     "start_time": "2023-12-11T23:38:36.954965Z"
    }
   },
   "outputs": [
    {
     "name": "stdout",
     "output_type": "stream",
     "text": [
      "{'ID': '718721', 'name': 'M2', 'wmoID': '62091', 'stationId': '', 'time': '23 Feb 19:00', 'pressure': 'n/a', 'windDir': 'n/a', 'windSpeed': '0', 'windGust': '0', 'windGustDir': '', 'temp': 'n/a', 'dewPoint': 'n/a', 'humidity': 'n/a', 'period': 'n/a', 'height': 'n/a', 'waveDir': '', 'seaTemp': 'n/a', 'reportDate': '07-06-2024', 'reportTime': '19:00', 'updated_At': '2024-06-07 12:22:43', 'created_at': '2024-06-07T11:22:43.000000Z'}\n",
      "{'ID': '718721', 'stationId': 'M2', 'time': '2024-06-07 12:22:43', 'windGustDir': '', 'reportDate': '07-06-2024', 'reportTime': '19:00', 'created_at': '2024-06-07T11:22:43.000000Z', 'CallSign': '62091', 'AtmosphericPressure': 'n/a', 'WindDirection': 'n/a', 'WindSpeed': '0', 'Gust': '0', 'WaveHeight': 'n/a', 'WavePeriod': 'n/a', 'MeanWaveDirection': '', 'AirTemperature': 'n/a', 'DewPoint': 'n/a', 'SeaTemperature': 'n/a', 'RelativeHumidity': 'n/a'}\n"
     ]
    }
   ],
   "source": [
    "import requests\n",
    "import csv\n",
    "from io import StringIO\n",
    "\n",
    "def download_csv(url):\n",
    "    response = requests.get(url)\n",
    "    response.raise_for_status()\n",
    "    return response.text\n",
    "\n",
    "def process_csv(csv_data):\n",
    "    data = []\n",
    "    csv_reader = csv.DictReader(StringIO(csv_data))\n",
    "    for row in csv_reader:\n",
    "        data.append(row)\n",
    "    return data\n",
    "\n",
    "url = \"https://www.met.ie/forecasts/marine-inland-lakes/buoys/download/M2\"\n",
    "\n",
    "try:\n",
    "    csv_data = download_csv(url)\n",
    "    data_list = process_csv(csv_data)\n",
    "    print(data_list[0])\n",
    "    \n",
    "    def update_dict(data):\n",
    "        # Move 'name' value to 'stationId'\n",
    "        data['stationId'] = data.pop('name')\n",
    "        # Rename 'wmoID' to 'CallSign'\n",
    "        data['CallSign'] = data.pop('wmoID')\n",
    "        data['time'] = data.pop('updated_At')\n",
    "        data['AtmosphericPressure'] = data.pop('pressure')\n",
    "        data['WindDirection'] = data.pop('windDir')\n",
    "        data['WindSpeed'] = data.pop('windSpeed')\n",
    "        data['Gust'] = data.pop('windGust')\n",
    "        data['WaveHeight'] = data.pop('height')\n",
    "        data['WavePeriod'] = data.pop('period')\n",
    "        data['MeanWaveDirection'] = data.pop('waveDir')\n",
    "        data['AirTemperature'] = data.pop('temp')\n",
    "        data['DewPoint'] = data.pop('dewPoint')\n",
    "        data['SeaTemperature'] = data.pop('seaTemp')\n",
    "        data['RelativeHumidity'] = data.pop('humidity')\n",
    "        return data\n",
    "\n",
    "# Update each dictionary in the list\n",
    "    updated_data_list = [update_dict(data) for data in data_list]\n",
    "    \n",
    "# Print the updated list\n",
    "    print(updated_data_list[0])\n",
    "    \n",
    "\n",
    "except Exception as e:\n",
    "    print(f\"An error occurred: {e}\")\n"
   ]
  },
  {
   "cell_type": "markdown",
   "id": "efec393708100947",
   "metadata": {},
   "source": []
  },
  {
   "cell_type": "code",
   "execution_count": 45,
   "id": "d37849d9b1c63c9b",
   "metadata": {},
   "outputs": [],
   "source": [
    "tide_high_low_url ='https://erddap.marine.ie/erddap/tabledap/IMI_TidePrediction_HighLow.htmlTable?stationID%2Ctime%2Clongitude%2Clatitude%2Ctide_time_category%2Ctide_height_LAT&stationID=%22Dublin_Port%22&time%3E=2023-12-11T11%3A08%3A36Z&time%3C=2023-12-19T11%3A08%3A36Z'\n"
   ]
  },
  {
   "cell_type": "code",
   "execution_count": 46,
   "id": "4775f18c546d0472",
   "metadata": {
    "ExecuteTime": {
     "end_time": "2023-12-12T16:24:05.868905Z",
     "start_time": "2023-12-12T16:24:05.402013Z"
    }
   },
   "outputs": [
    {
     "name": "stderr",
     "output_type": "stream",
     "text": [
      "C:\\Users\\Fujitsu\\AppData\\Local\\Temp\\ipykernel_17360\\321547852.py:11: DeprecationWarning: datetime.datetime.utcnow() is deprecated and scheduled for removal in a future version. Use timezone-aware objects to represent datetimes in UTC: datetime.datetime.now(datetime.UTC).\n",
      "  start_time = (datetime.utcnow() - timedelta(hours=24)).strftime('%Y-%m-%dT%H:%M:%SZ')\n",
      "C:\\Users\\Fujitsu\\AppData\\Local\\Temp\\ipykernel_17360\\321547852.py:12: DeprecationWarning: datetime.datetime.utcnow() is deprecated and scheduled for removal in a future version. Use timezone-aware objects to represent datetimes in UTC: datetime.datetime.now(datetime.UTC).\n",
      "  end_time = (datetime.utcnow() + timedelta(hours=168)).strftime('%Y-%m-%dT%H:%M:%SZ')\n"
     ]
    },
    {
     "name": "stdout",
     "output_type": "stream",
     "text": [
      "{\n",
      "  \"table\": {\n",
      "    \"columnNames\": [\"stationID\", \"time\", \"longitude\", \"latitude\", \"tide_time_category\", \"tide_height_LAT\"],\n",
      "    \"columnTypes\": [\"String\", \"String\", \"float\", \"float\", \"String\", \"double\"],\n",
      "    \"columnUnits\": [null, \"UTC\", \"degrees_east\", \"degrees_north\", null, \"metres\"],\n",
      "    \"rows\": [\n",
      "      [\"Dublin_Port\", \"2024-06-07T17:30:00Z\", -6.22166, 53.34574, \"LOW\", 0.866],\n",
      "      [\"Dublin_Port\", \"2024-06-08T00:20:00Z\", -6.22166, 53.34574, \"HIGH\", 4.169],\n",
      "      [\"Dublin_Port\", \"2024-06-08T06:00:00Z\", -6.22166, 53.34574, \"LOW\", 0.685],\n",
      "      [\"Dublin_Port\", \"2024-06-08T12:45:00Z\", -6.22166, 53.34574, \"HIGH\", 3.986],\n",
      "      [\"Dublin_Port\", \"2024-06-08T18:15:00Z\", -6.22166, 53.34574, \"LOW\", 0.964],\n",
      "      [\"Dublin_Port\", \"2024-06-09T01:00:00Z\", -6.22166, 53.34574, \"HIGH\", 4.16],\n",
      "      [\"Dublin_Port\", \"2024-06-09T06:50:00Z\", -6.22166, 53.34574, \"LOW\", 0.74],\n",
      "      [\"Dublin_Port\", \"2024-06-09T13:30:00Z\", -6.22166, 53.34574, \"HIGH\", 3.87],\n",
      "      [\"Dublin_Port\", \"2024-06-09T19:00:00Z\", -6.22166, 53.34574, \"LOW\", 1.08],\n",
      "      [\"Dublin_Port\", \"2024-06-10T01:40:00Z\", -6.22166, 53.34574, \"HIGH\", 4.107],\n",
      "      [\"Dublin_Port\", \"2024-06-10T07:35:00Z\", -6.22166, 53.34574, \"LOW\", 0.836],\n",
      "      [\"Dublin_Port\", \"2024-06-10T14:15:00Z\", -6.22166, 53.34574, \"HIGH\", 3.736],\n",
      "      [\"Dublin_Port\", \"2024-06-10T19:45:00Z\", -6.22166, 53.34574, \"LOW\", 1.213],\n",
      "      [\"Dublin_Port\", \"2024-06-11T02:25:00Z\", -6.22166, 53.34574, \"HIGH\", 4.011],\n",
      "      [\"Dublin_Port\", \"2024-06-11T08:25:00Z\", -6.22166, 53.34574, \"LOW\", 0.961],\n",
      "      [\"Dublin_Port\", \"2024-06-11T15:00:00Z\", -6.22166, 53.34574, \"HIGH\", 3.596],\n",
      "      [\"Dublin_Port\", \"2024-06-11T20:30:00Z\", -6.22166, 53.34574, \"LOW\", 1.361],\n",
      "      [\"Dublin_Port\", \"2024-06-12T03:15:00Z\", -6.22166, 53.34574, \"HIGH\", 3.882],\n",
      "      [\"Dublin_Port\", \"2024-06-12T09:20:00Z\", -6.22166, 53.34574, \"LOW\", 1.097],\n",
      "      [\"Dublin_Port\", \"2024-06-12T15:50:00Z\", -6.22166, 53.34574, \"HIGH\", 3.463],\n",
      "      [\"Dublin_Port\", \"2024-06-12T21:25:00Z\", -6.22166, 53.34574, \"LOW\", 1.509],\n",
      "      [\"Dublin_Port\", \"2024-06-13T04:05:00Z\", -6.22166, 53.34574, \"HIGH\", 3.741],\n",
      "      [\"Dublin_Port\", \"2024-06-13T10:15:00Z\", -6.22166, 53.34574, \"LOW\", 1.221],\n",
      "      [\"Dublin_Port\", \"2024-06-13T16:45:00Z\", -6.22166, 53.34574, \"HIGH\", 3.358],\n",
      "      [\"Dublin_Port\", \"2024-06-13T22:20:00Z\", -6.22166, 53.34574, \"LOW\", 1.635],\n",
      "      [\"Dublin_Port\", \"2024-06-14T05:00:00Z\", -6.22166, 53.34574, \"HIGH\", 3.613],\n",
      "      [\"Dublin_Port\", \"2024-06-14T11:10:00Z\", -6.22166, 53.34574, \"LOW\", 1.311],\n",
      "      [\"Dublin_Port\", \"2024-06-14T17:45:00Z\", -6.22166, 53.34574, \"HIGH\", 3.301],\n",
      "      [\"Dublin_Port\", \"2024-06-14T23:25:00Z\", -6.22166, 53.34574, \"LOW\", 1.711],\n",
      "      [\"Dublin_Port\", \"2024-06-15T05:55:00Z\", -6.22166, 53.34574, \"HIGH\", 3.524]\n",
      "    ]\n",
      "  }\n",
      "}\n",
      "\n"
     ]
    }
   ],
   "source": [
    "from datetime import datetime, timedelta\n",
    "import urllib.parse\n",
    "import requests\n",
    "\n",
    "# Define the base URL\n",
    "\n",
    "tide_high_low_url ='https://erddap.marine.ie/erddap/tabledap/IMI_TidePrediction_HighLow.json?stationID%2Ctime%2Clongitude%2Clatitude%2Ctide_time_category%2Ctide_height_LAT&stationID=%22Dublin_Port%22&time%3E=2023-12-10&time%3C=2023-12-14'\n",
    "base_url = \"https://erddap.marine.ie/erddap/tabledap/IMI_TidePrediction_HighLow.json?stationID%2Ctime%2Clongitude%2Clatitude%2Ctide_time_category%2Ctide_height_LAT&stationID=%22Dublin_Port%22\"\n",
    "\n",
    "# Calculate the time intervals\n",
    "start_time = (datetime.utcnow() - timedelta(hours=24)).strftime('%Y-%m-%dT%H:%M:%SZ')\n",
    "end_time = (datetime.utcnow() + timedelta(hours=168)).strftime('%Y-%m-%dT%H:%M:%SZ')\n",
    "\n",
    "# Properly encode the URL parameters\n",
    "params = {\n",
    "    'time>': start_time,\n",
    "    'time<': end_time,\n",
    "}\n",
    "\n",
    "# Encode the parameters and construct the full URL\n",
    "encoded_params = urllib.parse.urlencode(params, quote_via=urllib.parse.quote)\n",
    "updated_url = f\"{base_url}&{encoded_params}\"\n",
    "\n",
    "#print(\"Oryginal url: \" + tide_high_low_url)\n",
    "#print(\"Updated url: \" + updated_url)\n",
    "\n",
    "def download_data(updated_url):\n",
    "    response = requests.get(updated_url)\n",
    "    response.raise_for_status()\n",
    "    return response.text\n",
    "\n",
    "returned_text= download_data(updated_url)\n",
    "print(returned_text)"
   ]
  },
  {
   "cell_type": "code",
   "execution_count": 49,
   "id": "96f60263ebfaeb41",
   "metadata": {
    "ExecuteTime": {
     "end_time": "2023-12-13T20:47:09.945121Z",
     "start_time": "2023-12-13T20:47:09.652302Z"
    }
   },
   "outputs": [
    {
     "ename": "ModuleNotFoundError",
     "evalue": "No module named 'bs4'",
     "output_type": "error",
     "traceback": [
      "\u001b[1;31m---------------------------------------------------------------------------\u001b[0m",
      "\u001b[1;31mModuleNotFoundError\u001b[0m                       Traceback (most recent call last)",
      "Cell \u001b[1;32mIn[49], line 2\u001b[0m\n\u001b[0;32m      1\u001b[0m \u001b[38;5;28;01mimport\u001b[39;00m \u001b[38;5;21;01mrequests\u001b[39;00m\n\u001b[1;32m----> 2\u001b[0m \u001b[38;5;28;01mfrom\u001b[39;00m \u001b[38;5;21;01mbs4\u001b[39;00m \u001b[38;5;28;01mimport\u001b[39;00m BeautifulSoup\n\u001b[0;32m      4\u001b[0m \u001b[38;5;66;03m# URL of the page to fetch\u001b[39;00m\n\u001b[0;32m      5\u001b[0m url \u001b[38;5;241m=\u001b[39m \u001b[38;5;124m'\u001b[39m\u001b[38;5;124mhttps://www.met.ie/warnings/today/marine/EI810\u001b[39m\u001b[38;5;124m'\u001b[39m\n",
      "\u001b[1;31mModuleNotFoundError\u001b[0m: No module named 'bs4'"
     ]
    }
   ],
   "source": [
    "import requests\n",
    "from bs4 import BeautifulSoup\n",
    "\n",
    "# URL of the page to fetch\n",
    "url = 'https://www.met.ie/warnings/today/marine/EI810'\n",
    "\n",
    "# Send HTTP request to the page\n",
    "response = requests.get(url)\n",
    "response.raise_for_status()  # Raise an error if the fetch failed\n",
    "print(response.text)\n",
    "\n",
    "# Parse the HTML content\n",
    "soup = BeautifulSoup(response.text, 'html.parser')\n",
    "\n",
    "# Find the section for 'Howth Head to Wicklow Head Warnings'\n",
    "section = soup.find('div', id='HowthHeadToWicklowHeadWarnings')  # or whatever the correct identifier is\n",
    "\n",
    "# Extract the content you want to display (as HTML)\n",
    "content_to_display = str(section) if section else 'Section not found'\n",
    "\n",
    "# Now 'content_to_display' can be included in your website's HTML\n",
    "print(content_to_display)"
   ]
  },
  {
   "cell_type": "code",
   "execution_count": null,
   "id": "00157a04",
   "metadata": {},
   "outputs": [],
   "source": []
  }
 ],
 "metadata": {
  "kernelspec": {
   "display_name": "Python 3 (ipykernel)",
   "language": "python",
   "name": "python3"
  },
  "language_info": {
   "codemirror_mode": {
    "name": "ipython",
    "version": 3
   },
   "file_extension": ".py",
   "mimetype": "text/x-python",
   "name": "python",
   "nbconvert_exporter": "python",
   "pygments_lexer": "ipython3",
   "version": "3.12.2"
  }
 },
 "nbformat": 4,
 "nbformat_minor": 5
}
