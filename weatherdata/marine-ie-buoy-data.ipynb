{
 "cells": [
  {
   "cell_type": "markdown",
   "id": "84d5d1d6",
   "metadata": {},
   "source": []
  },
  {
   "cell_type": "code",
   "execution_count": 7,
   "id": "087eb675",
   "metadata": {},
   "outputs": [
    {
     "ename": "NameError",
     "evalue": "name 'null' is not defined",
     "output_type": "error",
     "traceback": [
      "\u001b[0;31m---------------------------------------------------------------------------\u001b[0m",
      "\u001b[0;31mNameError\u001b[0m                                 Traceback (most recent call last)",
      "Cell \u001b[0;32mIn[7], line 5\u001b[0m\n\u001b[1;32m      1\u001b[0m json_file\u001b[38;5;241m=\u001b[39m{\n\u001b[1;32m      2\u001b[0m   \u001b[38;5;124m\"\u001b[39m\u001b[38;5;124mtable\u001b[39m\u001b[38;5;124m\"\u001b[39m: {\n\u001b[1;32m      3\u001b[0m     \u001b[38;5;124m\"\u001b[39m\u001b[38;5;124mcolumnNames\u001b[39m\u001b[38;5;124m\"\u001b[39m: [\u001b[38;5;124m\"\u001b[39m\u001b[38;5;124mstation_id\u001b[39m\u001b[38;5;124m\"\u001b[39m, \u001b[38;5;124m\"\u001b[39m\u001b[38;5;124mCallSign\u001b[39m\u001b[38;5;124m\"\u001b[39m, \u001b[38;5;124m\"\u001b[39m\u001b[38;5;124mlongitude\u001b[39m\u001b[38;5;124m\"\u001b[39m, \u001b[38;5;124m\"\u001b[39m\u001b[38;5;124mlatitude\u001b[39m\u001b[38;5;124m\"\u001b[39m, \u001b[38;5;124m\"\u001b[39m\u001b[38;5;124mtime\u001b[39m\u001b[38;5;124m\"\u001b[39m, \u001b[38;5;124m\"\u001b[39m\u001b[38;5;124mAtmosphericPressure\u001b[39m\u001b[38;5;124m\"\u001b[39m, \u001b[38;5;124m\"\u001b[39m\u001b[38;5;124mWindDirection\u001b[39m\u001b[38;5;124m\"\u001b[39m, \u001b[38;5;124m\"\u001b[39m\u001b[38;5;124mWindSpeed\u001b[39m\u001b[38;5;124m\"\u001b[39m, \u001b[38;5;124m\"\u001b[39m\u001b[38;5;124mGust\u001b[39m\u001b[38;5;124m\"\u001b[39m, \u001b[38;5;124m\"\u001b[39m\u001b[38;5;124mWaveHeight\u001b[39m\u001b[38;5;124m\"\u001b[39m, \u001b[38;5;124m\"\u001b[39m\u001b[38;5;124mWavePeriod\u001b[39m\u001b[38;5;124m\"\u001b[39m, \u001b[38;5;124m\"\u001b[39m\u001b[38;5;124mMeanWaveDirection\u001b[39m\u001b[38;5;124m\"\u001b[39m, \u001b[38;5;124m\"\u001b[39m\u001b[38;5;124mHmax\u001b[39m\u001b[38;5;124m\"\u001b[39m, \u001b[38;5;124m\"\u001b[39m\u001b[38;5;124mAirTemperature\u001b[39m\u001b[38;5;124m\"\u001b[39m, \u001b[38;5;124m\"\u001b[39m\u001b[38;5;124mDewPoint\u001b[39m\u001b[38;5;124m\"\u001b[39m, \u001b[38;5;124m\"\u001b[39m\u001b[38;5;124mSeaTemperature\u001b[39m\u001b[38;5;124m\"\u001b[39m, \u001b[38;5;124m\"\u001b[39m\u001b[38;5;124msalinity\u001b[39m\u001b[38;5;124m\"\u001b[39m, \u001b[38;5;124m\"\u001b[39m\u001b[38;5;124mRelativeHumidity\u001b[39m\u001b[38;5;124m\"\u001b[39m, \u001b[38;5;124m\"\u001b[39m\u001b[38;5;124mSprTp\u001b[39m\u001b[38;5;124m\"\u001b[39m, \u001b[38;5;124m\"\u001b[39m\u001b[38;5;124mThTp\u001b[39m\u001b[38;5;124m\"\u001b[39m, \u001b[38;5;124m\"\u001b[39m\u001b[38;5;124mTp\u001b[39m\u001b[38;5;124m\"\u001b[39m, \u001b[38;5;124m\"\u001b[39m\u001b[38;5;124mQC_Flag\u001b[39m\u001b[38;5;124m\"\u001b[39m],\n\u001b[1;32m      4\u001b[0m     \u001b[38;5;124m\"\u001b[39m\u001b[38;5;124mcolumnTypes\u001b[39m\u001b[38;5;124m\"\u001b[39m: [\u001b[38;5;124m\"\u001b[39m\u001b[38;5;124mString\u001b[39m\u001b[38;5;124m\"\u001b[39m, \u001b[38;5;124m\"\u001b[39m\u001b[38;5;124mString\u001b[39m\u001b[38;5;124m\"\u001b[39m, \u001b[38;5;124m\"\u001b[39m\u001b[38;5;124mdouble\u001b[39m\u001b[38;5;124m\"\u001b[39m, \u001b[38;5;124m\"\u001b[39m\u001b[38;5;124mdouble\u001b[39m\u001b[38;5;124m\"\u001b[39m, \u001b[38;5;124m\"\u001b[39m\u001b[38;5;124mString\u001b[39m\u001b[38;5;124m\"\u001b[39m, \u001b[38;5;124m\"\u001b[39m\u001b[38;5;124mdouble\u001b[39m\u001b[38;5;124m\"\u001b[39m, \u001b[38;5;124m\"\u001b[39m\u001b[38;5;124mdouble\u001b[39m\u001b[38;5;124m\"\u001b[39m, \u001b[38;5;124m\"\u001b[39m\u001b[38;5;124mdouble\u001b[39m\u001b[38;5;124m\"\u001b[39m, \u001b[38;5;124m\"\u001b[39m\u001b[38;5;124mdouble\u001b[39m\u001b[38;5;124m\"\u001b[39m, \u001b[38;5;124m\"\u001b[39m\u001b[38;5;124mdouble\u001b[39m\u001b[38;5;124m\"\u001b[39m, \u001b[38;5;124m\"\u001b[39m\u001b[38;5;124mdouble\u001b[39m\u001b[38;5;124m\"\u001b[39m, \u001b[38;5;124m\"\u001b[39m\u001b[38;5;124mdouble\u001b[39m\u001b[38;5;124m\"\u001b[39m, \u001b[38;5;124m\"\u001b[39m\u001b[38;5;124mdouble\u001b[39m\u001b[38;5;124m\"\u001b[39m, \u001b[38;5;124m\"\u001b[39m\u001b[38;5;124mdouble\u001b[39m\u001b[38;5;124m\"\u001b[39m, \u001b[38;5;124m\"\u001b[39m\u001b[38;5;124mdouble\u001b[39m\u001b[38;5;124m\"\u001b[39m, \u001b[38;5;124m\"\u001b[39m\u001b[38;5;124mdouble\u001b[39m\u001b[38;5;124m\"\u001b[39m, \u001b[38;5;124m\"\u001b[39m\u001b[38;5;124mdouble\u001b[39m\u001b[38;5;124m\"\u001b[39m, \u001b[38;5;124m\"\u001b[39m\u001b[38;5;124mdouble\u001b[39m\u001b[38;5;124m\"\u001b[39m, \u001b[38;5;124m\"\u001b[39m\u001b[38;5;124mdouble\u001b[39m\u001b[38;5;124m\"\u001b[39m, \u001b[38;5;124m\"\u001b[39m\u001b[38;5;124mdouble\u001b[39m\u001b[38;5;124m\"\u001b[39m, \u001b[38;5;124m\"\u001b[39m\u001b[38;5;124mdouble\u001b[39m\u001b[38;5;124m\"\u001b[39m, \u001b[38;5;124m\"\u001b[39m\u001b[38;5;124mint\u001b[39m\u001b[38;5;124m\"\u001b[39m],\n\u001b[0;32m----> 5\u001b[0m     \u001b[38;5;124m\"\u001b[39m\u001b[38;5;124mcolumnUnits\u001b[39m\u001b[38;5;124m\"\u001b[39m: [null, null, \u001b[38;5;124m\"\u001b[39m\u001b[38;5;124mdegrees_east\u001b[39m\u001b[38;5;124m\"\u001b[39m, \u001b[38;5;124m\"\u001b[39m\u001b[38;5;124mdegrees_north\u001b[39m\u001b[38;5;124m\"\u001b[39m, \u001b[38;5;124m\"\u001b[39m\u001b[38;5;124mUTC\u001b[39m\u001b[38;5;124m\"\u001b[39m, \u001b[38;5;124m\"\u001b[39m\u001b[38;5;124mmillibars\u001b[39m\u001b[38;5;124m\"\u001b[39m, \u001b[38;5;124m\"\u001b[39m\u001b[38;5;124mdegrees true\u001b[39m\u001b[38;5;124m\"\u001b[39m, \u001b[38;5;124m\"\u001b[39m\u001b[38;5;124mknots\u001b[39m\u001b[38;5;124m\"\u001b[39m, \u001b[38;5;124m\"\u001b[39m\u001b[38;5;124mknots\u001b[39m\u001b[38;5;124m\"\u001b[39m, \u001b[38;5;124m\"\u001b[39m\u001b[38;5;124mmeters\u001b[39m\u001b[38;5;124m\"\u001b[39m, \u001b[38;5;124m\"\u001b[39m\u001b[38;5;124mseconds\u001b[39m\u001b[38;5;124m\"\u001b[39m, \u001b[38;5;124m\"\u001b[39m\u001b[38;5;124mdegrees_true\u001b[39m\u001b[38;5;124m\"\u001b[39m, \u001b[38;5;124m\"\u001b[39m\u001b[38;5;124mmeters\u001b[39m\u001b[38;5;124m\"\u001b[39m, \u001b[38;5;124m\"\u001b[39m\u001b[38;5;124mdegrees_C\u001b[39m\u001b[38;5;124m\"\u001b[39m, \u001b[38;5;124m\"\u001b[39m\u001b[38;5;124mdegrees_C\u001b[39m\u001b[38;5;124m\"\u001b[39m, \u001b[38;5;124m\"\u001b[39m\u001b[38;5;124mdegrees_C\u001b[39m\u001b[38;5;124m\"\u001b[39m, \u001b[38;5;124m\"\u001b[39m\u001b[38;5;124mdimensionless\u001b[39m\u001b[38;5;124m\"\u001b[39m, \u001b[38;5;124m\"\u001b[39m\u001b[38;5;124mpercent\u001b[39m\u001b[38;5;124m\"\u001b[39m, \u001b[38;5;124m\"\u001b[39m\u001b[38;5;124mdegrees\u001b[39m\u001b[38;5;124m\"\u001b[39m, \u001b[38;5;124m\"\u001b[39m\u001b[38;5;124mdegrees_true\u001b[39m\u001b[38;5;124m\"\u001b[39m, \u001b[38;5;124m\"\u001b[39m\u001b[38;5;124mseconds\u001b[39m\u001b[38;5;124m\"\u001b[39m, null],\n\u001b[1;32m      6\u001b[0m     \u001b[38;5;124m\"\u001b[39m\u001b[38;5;124mrows\u001b[39m\u001b[38;5;124m\"\u001b[39m: [\n\u001b[1;32m      7\u001b[0m       [\u001b[38;5;124m\"\u001b[39m\u001b[38;5;124mM2\u001b[39m\u001b[38;5;124m\"\u001b[39m, \u001b[38;5;124m\"\u001b[39m\u001b[38;5;124m62091\u001b[39m\u001b[38;5;124m\"\u001b[39m, \u001b[38;5;241m-\u001b[39m\u001b[38;5;241m5.4302\u001b[39m, \u001b[38;5;241m53.4836\u001b[39m, \u001b[38;5;124m\"\u001b[39m\u001b[38;5;124m2023-12-04T20:00:00Z\u001b[39m\u001b[38;5;124m\"\u001b[39m, \u001b[38;5;241m1004.041\u001b[39m, \u001b[38;5;241m0\u001b[39m, \u001b[38;5;241m21.859\u001b[39m, \u001b[38;5;241m28.462\u001b[39m, \u001b[38;5;241m2.344\u001b[39m, \u001b[38;5;241m4.688\u001b[39m, \u001b[38;5;241m28\u001b[39m, \u001b[38;5;241m3.75\u001b[39m, \u001b[38;5;241m8.457\u001b[39m, null, \u001b[38;5;241m12.698\u001b[39m, \u001b[38;5;241m25\u001b[39m, \u001b[38;5;241m81.738\u001b[39m, \u001b[38;5;241m133.594\u001b[39m, \u001b[38;5;241m39.375\u001b[39m, \u001b[38;5;241m6.211\u001b[39m, \u001b[38;5;241m0\u001b[39m],\n\u001b[1;32m      8\u001b[0m       [\u001b[38;5;124m\"\u001b[39m\u001b[38;5;124mM3\u001b[39m\u001b[38;5;124m\"\u001b[39m, \u001b[38;5;124m\"\u001b[39m\u001b[38;5;124m62092\u001b[39m\u001b[38;5;124m\"\u001b[39m, \u001b[38;5;241m-\u001b[39m\u001b[38;5;241m10.548261\u001b[39m, \u001b[38;5;241m51.215956\u001b[39m, \u001b[38;5;124m\"\u001b[39m\u001b[38;5;124m2023-12-04T20:00:00Z\u001b[39m\u001b[38;5;124m\"\u001b[39m, \u001b[38;5;241m1013.843\u001b[39m, \u001b[38;5;241m330\u001b[39m, \u001b[38;5;241m19.809\u001b[39m, \u001b[38;5;241m25.046\u001b[39m, \u001b[38;5;241m2.344\u001b[39m, \u001b[38;5;241m5.625\u001b[39m, \u001b[38;5;241m323\u001b[39m, \u001b[38;5;241m4.219\u001b[39m, \u001b[38;5;241m9.531\u001b[39m, null, \u001b[38;5;241m11.466\u001b[39m, \u001b[38;5;241m35.0528\u001b[39m, \u001b[38;5;241m60.938\u001b[39m, \u001b[38;5;241m191.25\u001b[39m, \u001b[38;5;241m260.156\u001b[39m, \u001b[38;5;241m10.547\u001b[39m, \u001b[38;5;241m0\u001b[39m],\n\u001b[1;32m      9\u001b[0m       [\u001b[38;5;124m\"\u001b[39m\u001b[38;5;124mM4\u001b[39m\u001b[38;5;124m\"\u001b[39m, \u001b[38;5;124m\"\u001b[39m\u001b[38;5;124m62093\u001b[39m\u001b[38;5;124m\"\u001b[39m, \u001b[38;5;241m-\u001b[39m\u001b[38;5;241m9.999136\u001b[39m, \u001b[38;5;241m54.999967\u001b[39m, \u001b[38;5;124m\"\u001b[39m\u001b[38;5;124m2023-12-04T20:00:00Z\u001b[39m\u001b[38;5;124m\"\u001b[39m, \u001b[38;5;241m1012.878\u001b[39m, \u001b[38;5;241m17\u001b[39m, \u001b[38;5;241m15.939\u001b[39m, \u001b[38;5;241m21.29\u001b[39m, \u001b[38;5;241m2.109\u001b[39m, \u001b[38;5;241m5.391\u001b[39m, \u001b[38;5;241m8\u001b[39m, \u001b[38;5;241m3.906\u001b[39m, \u001b[38;5;241m9.287\u001b[39m, null, \u001b[38;5;241m11.299\u001b[39m, \u001b[38;5;241m35.17891\u001b[39m, \u001b[38;5;241m64.355\u001b[39m, \u001b[38;5;241m129.375\u001b[39m, \u001b[38;5;241m15.469\u001b[39m, \u001b[38;5;241m7.148\u001b[39m, \u001b[38;5;241m0\u001b[39m],\n\u001b[1;32m     10\u001b[0m       [\u001b[38;5;124m\"\u001b[39m\u001b[38;5;124mM5\u001b[39m\u001b[38;5;124m\"\u001b[39m, \u001b[38;5;124m\"\u001b[39m\u001b[38;5;124m62094\u001b[39m\u001b[38;5;124m\"\u001b[39m, \u001b[38;5;241m-\u001b[39m\u001b[38;5;241m6.704336\u001b[39m, \u001b[38;5;241m51.690425\u001b[39m, \u001b[38;5;124m\"\u001b[39m\u001b[38;5;124m2023-12-04T20:00:00Z\u001b[39m\u001b[38;5;124m\"\u001b[39m, \u001b[38;5;241m1007.214\u001b[39m, \u001b[38;5;241m333\u001b[39m, \u001b[38;5;241m26.526\u001b[39m, \u001b[38;5;241m33.699\u001b[39m, \u001b[38;5;241m2.578\u001b[39m, \u001b[38;5;241m5.391\u001b[39m, \u001b[38;5;241m308\u001b[39m, \u001b[38;5;241m4.063\u001b[39m, \u001b[38;5;241m7.041\u001b[39m, null, \u001b[38;5;241m12.285\u001b[39m, null, \u001b[38;5;241m79.297\u001b[39m, \u001b[38;5;241m142.031\u001b[39m, \u001b[38;5;241m312.188\u001b[39m, \u001b[38;5;241m6.211\u001b[39m, \u001b[38;5;241m0\u001b[39m],\n\u001b[1;32m     11\u001b[0m       [\u001b[38;5;124m\"\u001b[39m\u001b[38;5;124mM6\u001b[39m\u001b[38;5;124m\"\u001b[39m, \u001b[38;5;124m\"\u001b[39m\u001b[38;5;124m62095\u001b[39m\u001b[38;5;124m\"\u001b[39m, \u001b[38;5;241m-\u001b[39m\u001b[38;5;241m15.88135\u001b[39m, \u001b[38;5;241m53.07482\u001b[39m, \u001b[38;5;124m\"\u001b[39m\u001b[38;5;124m2023-12-04T20:00:00Z\u001b[39m\u001b[38;5;124m\"\u001b[39m, \u001b[38;5;241m1015.674\u001b[39m, \u001b[38;5;241m138\u001b[39m, \u001b[38;5;241m7.059\u001b[39m, \u001b[38;5;241m10.588\u001b[39m, \u001b[38;5;241m1.641\u001b[39m, \u001b[38;5;241m6.328\u001b[39m, \u001b[38;5;241m293\u001b[39m, \u001b[38;5;241m2.578\u001b[39m, \u001b[38;5;241m9.531\u001b[39m, null, \u001b[38;5;241m12.845\u001b[39m, \u001b[38;5;241m35.64583\u001b[39m, \u001b[38;5;241m56.055\u001b[39m, \u001b[38;5;241m41.484\u001b[39m, \u001b[38;5;241m260.156\u001b[39m, \u001b[38;5;241m9.727\u001b[39m, \u001b[38;5;241m0\u001b[39m],\n\u001b[1;32m     12\u001b[0m       [\u001b[38;5;124m\"\u001b[39m\u001b[38;5;124mM2\u001b[39m\u001b[38;5;124m\"\u001b[39m, \u001b[38;5;124m\"\u001b[39m\u001b[38;5;124m62091\u001b[39m\u001b[38;5;124m\"\u001b[39m, \u001b[38;5;241m-\u001b[39m\u001b[38;5;241m5.4302\u001b[39m, \u001b[38;5;241m53.4836\u001b[39m, \u001b[38;5;124m\"\u001b[39m\u001b[38;5;124m2023-12-04T21:00:00Z\u001b[39m\u001b[38;5;124m\"\u001b[39m, \u001b[38;5;241m1004.773\u001b[39m, \u001b[38;5;241m0\u001b[39m, \u001b[38;5;241m23.453\u001b[39m, \u001b[38;5;241m29.145\u001b[39m, \u001b[38;5;241m2.227\u001b[39m, \u001b[38;5;241m4.805\u001b[39m, \u001b[38;5;241m31\u001b[39m, \u001b[38;5;241m3.281\u001b[39m, \u001b[38;5;241m8.115\u001b[39m, null, \u001b[38;5;241m12.62\u001b[39m, \u001b[38;5;241m25\u001b[39m, \u001b[38;5;241m83.008\u001b[39m, \u001b[38;5;241m136.406\u001b[39m, \u001b[38;5;241m29.531\u001b[39m, \u001b[38;5;241m5.859\u001b[39m, \u001b[38;5;241m0\u001b[39m],\n\u001b[1;32m     13\u001b[0m       [\u001b[38;5;124m\"\u001b[39m\u001b[38;5;124mM3\u001b[39m\u001b[38;5;124m\"\u001b[39m, \u001b[38;5;124m\"\u001b[39m\u001b[38;5;124m62092\u001b[39m\u001b[38;5;124m\"\u001b[39m, \u001b[38;5;241m-\u001b[39m\u001b[38;5;241m10.548261\u001b[39m, \u001b[38;5;241m51.215956\u001b[39m, \u001b[38;5;124m\"\u001b[39m\u001b[38;5;124m2023-12-04T21:00:00Z\u001b[39m\u001b[38;5;124m\"\u001b[39m, \u001b[38;5;241m1014.6\u001b[39m, \u001b[38;5;241m315\u001b[39m, \u001b[38;5;241m20.037\u001b[39m, \u001b[38;5;241m23.566\u001b[39m, \u001b[38;5;241m2.461\u001b[39m, \u001b[38;5;241m5.859\u001b[39m, \u001b[38;5;241m322\u001b[39m, \u001b[38;5;241m3.75\u001b[39m, \u001b[38;5;241m9.482\u001b[39m, null, \u001b[38;5;241m11.45\u001b[39m, \u001b[38;5;241m35.0499\u001b[39m, \u001b[38;5;241m69.043\u001b[39m, \u001b[38;5;241m178.594\u001b[39m, \u001b[38;5;241m272.813\u001b[39m, \u001b[38;5;241m10.547\u001b[39m, \u001b[38;5;241m0\u001b[39m],\n\u001b[1;32m     14\u001b[0m       [\u001b[38;5;124m\"\u001b[39m\u001b[38;5;124mM4\u001b[39m\u001b[38;5;124m\"\u001b[39m, \u001b[38;5;124m\"\u001b[39m\u001b[38;5;124m62093\u001b[39m\u001b[38;5;124m\"\u001b[39m, \u001b[38;5;241m-\u001b[39m\u001b[38;5;241m9.999136\u001b[39m, \u001b[38;5;241m54.999967\u001b[39m, \u001b[38;5;124m\"\u001b[39m\u001b[38;5;124m2023-12-04T21:00:00Z\u001b[39m\u001b[38;5;124m\"\u001b[39m, \u001b[38;5;241m1013.232\u001b[39m, \u001b[38;5;241m16\u001b[39m, \u001b[38;5;241m15.711\u001b[39m, \u001b[38;5;241m20.72\u001b[39m, \u001b[38;5;241m1.992\u001b[39m, \u001b[38;5;241m5.273\u001b[39m, \u001b[38;5;241m356\u001b[39m, \u001b[38;5;241m3.281\u001b[39m, \u001b[38;5;241m9.141\u001b[39m, null, \u001b[38;5;241m11.279\u001b[39m, \u001b[38;5;241m35.18219\u001b[39m, \u001b[38;5;241m68.652\u001b[39m, \u001b[38;5;241m133.594\u001b[39m, \u001b[38;5;241m2.813\u001b[39m, \u001b[38;5;241m7.148\u001b[39m, \u001b[38;5;241m0\u001b[39m],\n\u001b[1;32m     15\u001b[0m       [\u001b[38;5;124m\"\u001b[39m\u001b[38;5;124mM5\u001b[39m\u001b[38;5;124m\"\u001b[39m, \u001b[38;5;124m\"\u001b[39m\u001b[38;5;124m62094\u001b[39m\u001b[38;5;124m\"\u001b[39m, \u001b[38;5;241m-\u001b[39m\u001b[38;5;241m6.704336\u001b[39m, \u001b[38;5;241m51.690425\u001b[39m, \u001b[38;5;124m\"\u001b[39m\u001b[38;5;124m2023-12-04T21:00:00Z\u001b[39m\u001b[38;5;124m\"\u001b[39m, \u001b[38;5;241m1007.861\u001b[39m, \u001b[38;5;241m331\u001b[39m, \u001b[38;5;241m24.25\u001b[39m, \u001b[38;5;241m31.308\u001b[39m, \u001b[38;5;241m2.578\u001b[39m, \u001b[38;5;241m5.391\u001b[39m, \u001b[38;5;241m316\u001b[39m, \u001b[38;5;241m4.219\u001b[39m, \u001b[38;5;241m7.529\u001b[39m, null, \u001b[38;5;241m12.281\u001b[39m, null, \u001b[38;5;241m79.883\u001b[39m, \u001b[38;5;241m140.625\u001b[39m, \u001b[38;5;241m313.594\u001b[39m, \u001b[38;5;241m6.211\u001b[39m, \u001b[38;5;241m0\u001b[39m],\n\u001b[1;32m     16\u001b[0m       [\u001b[38;5;124m\"\u001b[39m\u001b[38;5;124mM6\u001b[39m\u001b[38;5;124m\"\u001b[39m, \u001b[38;5;124m\"\u001b[39m\u001b[38;5;124m62095\u001b[39m\u001b[38;5;124m\"\u001b[39m, \u001b[38;5;241m-\u001b[39m\u001b[38;5;241m15.88135\u001b[39m, \u001b[38;5;241m53.07482\u001b[39m, \u001b[38;5;124m\"\u001b[39m\u001b[38;5;124m2023-12-04T21:00:00Z\u001b[39m\u001b[38;5;124m\"\u001b[39m, \u001b[38;5;241m1015.625\u001b[39m, \u001b[38;5;241m96\u001b[39m, \u001b[38;5;241m7.969\u001b[39m, \u001b[38;5;241m11.612\u001b[39m, \u001b[38;5;241m1.641\u001b[39m, \u001b[38;5;241m6.445\u001b[39m, \u001b[38;5;241m307\u001b[39m, \u001b[38;5;241m2.461\u001b[39m, \u001b[38;5;241m9.531\u001b[39m, null, \u001b[38;5;241m12.799\u001b[39m, \u001b[38;5;241m35.64072\u001b[39m, \u001b[38;5;241m65.43\u001b[39m, \u001b[38;5;241m53.789\u001b[39m, \u001b[38;5;241m232.031\u001b[39m, \u001b[38;5;241m9.141\u001b[39m, \u001b[38;5;241m0\u001b[39m]\n\u001b[1;32m     17\u001b[0m     ]\n\u001b[1;32m     18\u001b[0m   }\n\u001b[1;32m     19\u001b[0m }\n",
      "\u001b[0;31mNameError\u001b[0m: name 'null' is not defined"
     ]
    }
   ],
   "source": [
    "json_file={\n",
    "  \"table\": {\n",
    "    \"columnNames\": [\"station_id\", \"CallSign\", \"longitude\", \"latitude\", \"time\", \"AtmosphericPressure\", \"WindDirection\", \"WindSpeed\", \"Gust\", \"WaveHeight\", \"WavePeriod\", \"MeanWaveDirection\", \"Hmax\", \"AirTemperature\", \"DewPoint\", \"SeaTemperature\", \"salinity\", \"RelativeHumidity\", \"SprTp\", \"ThTp\", \"Tp\", \"QC_Flag\"],\n",
    "    \"columnTypes\": [\"String\", \"String\", \"double\", \"double\", \"String\", \"double\", \"double\", \"double\", \"double\", \"double\", \"double\", \"double\", \"double\", \"double\", \"double\", \"double\", \"double\", \"double\", \"double\", \"double\", \"double\", \"int\"],\n",
    "    \"columnUnits\": [null, null, \"degrees_east\", \"degrees_north\", \"UTC\", \"millibars\", \"degrees true\", \"knots\", \"knots\", \"meters\", \"seconds\", \"degrees_true\", \"meters\", \"degrees_C\", \"degrees_C\", \"degrees_C\", \"dimensionless\", \"percent\", \"degrees\", \"degrees_true\", \"seconds\", null],\n",
    "    \"rows\": [\n",
    "      [\"M2\", \"62091\", -5.4302, 53.4836, \"2023-12-04T20:00:00Z\", 1004.041, 0, 21.859, 28.462, 2.344, 4.688, 28, 3.75, 8.457, null, 12.698, 25, 81.738, 133.594, 39.375, 6.211, 0],\n",
    "      [\"M3\", \"62092\", -10.548261, 51.215956, \"2023-12-04T20:00:00Z\", 1013.843, 330, 19.809, 25.046, 2.344, 5.625, 323, 4.219, 9.531, null, 11.466, 35.0528, 60.938, 191.25, 260.156, 10.547, 0],\n",
    "      [\"M4\", \"62093\", -9.999136, 54.999967, \"2023-12-04T20:00:00Z\", 1012.878, 17, 15.939, 21.29, 2.109, 5.391, 8, 3.906, 9.287, null, 11.299, 35.17891, 64.355, 129.375, 15.469, 7.148, 0],\n",
    "      [\"M5\", \"62094\", -6.704336, 51.690425, \"2023-12-04T20:00:00Z\", 1007.214, 333, 26.526, 33.699, 2.578, 5.391, 308, 4.063, 7.041, null, 12.285, null, 79.297, 142.031, 312.188, 6.211, 0],\n",
    "      [\"M6\", \"62095\", -15.88135, 53.07482, \"2023-12-04T20:00:00Z\", 1015.674, 138, 7.059, 10.588, 1.641, 6.328, 293, 2.578, 9.531, null, 12.845, 35.64583, 56.055, 41.484, 260.156, 9.727, 0],\n",
    "      [\"M2\", \"62091\", -5.4302, 53.4836, \"2023-12-04T21:00:00Z\", 1004.773, 0, 23.453, 29.145, 2.227, 4.805, 31, 3.281, 8.115, null, 12.62, 25, 83.008, 136.406, 29.531, 5.859, 0],\n",
    "      [\"M3\", \"62092\", -10.548261, 51.215956, \"2023-12-04T21:00:00Z\", 1014.6, 315, 20.037, 23.566, 2.461, 5.859, 322, 3.75, 9.482, null, 11.45, 35.0499, 69.043, 178.594, 272.813, 10.547, 0],\n",
    "      [\"M4\", \"62093\", -9.999136, 54.999967, \"2023-12-04T21:00:00Z\", 1013.232, 16, 15.711, 20.72, 1.992, 5.273, 356, 3.281, 9.141, null, 11.279, 35.18219, 68.652, 133.594, 2.813, 7.148, 0],\n",
    "      [\"M5\", \"62094\", -6.704336, 51.690425, \"2023-12-04T21:00:00Z\", 1007.861, 331, 24.25, 31.308, 2.578, 5.391, 316, 4.219, 7.529, null, 12.281, null, 79.883, 140.625, 313.594, 6.211, 0],\n",
    "      [\"M6\", \"62095\", -15.88135, 53.07482, \"2023-12-04T21:00:00Z\", 1015.625, 96, 7.969, 11.612, 1.641, 6.445, 307, 2.461, 9.531, null, 12.799, 35.64072, 65.43, 53.789, 232.031, 9.141, 0]\n",
    "    ]\n",
    "  }\n",
    "}\n"
   ]
  },
  {
   "cell_type": "code",
   "execution_count": 19,
   "id": "619c7559",
   "metadata": {},
   "outputs": [
    {
     "name": "stdout",
     "output_type": "stream",
     "text": [
      "2023-12-04T20:23:44Z\n",
      "https://erddap.marine.ie/erddap/tabledap/IWBNetwork.json?station_id%2CCallSign%2Clongitude%2Clatitude%2Ctime%2CAtmosphericPressure%2CWindDirection%2CWindSpeed%2CGust%2CWaveHeight%2CWavePeriod%2CMeanWaveDirection%2CHmax%2CAirTemperature%2CDewPoint%2CSeaTemperature%2Csalinity%2CRelativeHumidity%2CSprTp%2CThTp%2CTp%2CQC_Flag&time%3E=2023-12-04T20%3A23%3A44Z\n"
     ]
    }
   ],
   "source": [
    "from datetime import datetime, timedelta\n",
    "import urllib.parse\n",
    "\n",
    "# Calculate the current time minus 60 minutes\n",
    "time_threshold = datetime.utcnow() - timedelta(minutes=120)\n",
    "\n",
    "# Format the time in the required format (ISO 8601 format)\n",
    "formatted_time = time_threshold.strftime('%Y-%m-%dT%H:%M:%SZ')\n",
    "print(formatted_time)\n",
    "# Base URL without the time parameter\n",
    "base_url = \"https://erddap.marine.ie/erddap/tabledap/IWBNetwork.json?station_id%2CCallSign%2Clongitude%2Clatitude%2Ctime%2CAtmosphericPressure%2CWindDirection%2CWindSpeed%2CGust%2CWaveHeight%2CWavePeriod%2CMeanWaveDirection%2CHmax%2CAirTemperature%2CDewPoint%2CSeaTemperature%2Csalinity%2CRelativeHumidity%2CSprTp%2CThTp%2CTp%2CQC_Flag&time%3E=\"\n",
    "\n",
    "# Construct the final URL\n",
    "final_url = base_url + urllib.parse.quote(formatted_time)\n",
    "\n",
    "print(final_url)"
   ]
  },
  {
   "cell_type": "code",
   "execution_count": 20,
   "id": "4757c4d2",
   "metadata": {
    "scrolled": true
   },
   "outputs": [
    {
     "name": "stdout",
     "output_type": "stream",
     "text": [
      "['station_id', 'CallSign', 'longitude', 'latitude', 'time', 'AtmosphericPressure', 'WindDirection', 'WindSpeed', 'Gust', 'WaveHeight', 'WavePeriod', 'MeanWaveDirection', 'Hmax', 'AirTemperature', 'DewPoint', 'SeaTemperature', 'salinity', 'RelativeHumidity', 'SprTp', 'ThTp', 'Tp', 'QC_Flag']\n",
      "[{'station_id': 'M2', 'CallSign': '62091', 'longitude': -5.4302, 'latitude': 53.4836, 'time': '2023-12-04T21:00:00Z', 'AtmosphericPressure': 1004.773, 'WindDirection': 0, 'WindSpeed': 23.453, 'Gust': 29.145, 'WaveHeight': 2.227, 'WavePeriod': 4.805, 'MeanWaveDirection': 31, 'Hmax': 3.281, 'AirTemperature': 8.115, 'DewPoint': None, 'SeaTemperature': 12.62, 'salinity': 25, 'RelativeHumidity': 83.008, 'SprTp': 136.406, 'ThTp': 29.531, 'Tp': 5.859, 'QC_Flag': 0}, {'station_id': 'M3', 'CallSign': '62092', 'longitude': -10.548261, 'latitude': 51.215956, 'time': '2023-12-04T21:00:00Z', 'AtmosphericPressure': 1014.6, 'WindDirection': 315, 'WindSpeed': 20.037, 'Gust': 23.566, 'WaveHeight': 2.461, 'WavePeriod': 5.859, 'MeanWaveDirection': 322, 'Hmax': 3.75, 'AirTemperature': 9.482, 'DewPoint': None, 'SeaTemperature': 11.45, 'salinity': 35.0499, 'RelativeHumidity': 69.043, 'SprTp': 178.594, 'ThTp': 272.813, 'Tp': 10.547, 'QC_Flag': 0}, {'station_id': 'M4', 'CallSign': '62093', 'longitude': -9.999136, 'latitude': 54.999967, 'time': '2023-12-04T21:00:00Z', 'AtmosphericPressure': 1013.232, 'WindDirection': 16, 'WindSpeed': 15.711, 'Gust': 20.72, 'WaveHeight': 1.992, 'WavePeriod': 5.273, 'MeanWaveDirection': 356, 'Hmax': 3.281, 'AirTemperature': 9.141, 'DewPoint': None, 'SeaTemperature': 11.279, 'salinity': 35.18219, 'RelativeHumidity': 68.652, 'SprTp': 133.594, 'ThTp': 2.813, 'Tp': 7.148, 'QC_Flag': 0}]\n"
     ]
    }
   ],
   "source": [
    "# Extract column names and rows\n",
    "import requests\n",
    "import json\n",
    "\n",
    "response = requests.get(final_url)\n",
    "json_file = response.json()\n",
    "\n",
    "column_names = json_file[\"table\"][\"columnNames\"]\n",
    "rows = json_file[\"table\"][\"rows\"]\n",
    "\n",
    "print(column_names)\n",
    "# Convert rows to list of dictionaries\n",
    "list_of_dicts = [dict(zip(column_names, row)) for row in rows]\n",
    "\n",
    "# Display the first few dictionaries for verification\n",
    "print(list_of_dicts[:3])  # Displaying the first three dictionaries for brevity"
   ]
  },
  {
   "cell_type": "markdown",
   "id": "040d027f",
   "metadata": {},
   "source": [
    "Column units"
   ]
  },
  {
   "cell_type": "code",
   "execution_count": 21,
   "id": "cdd12366",
   "metadata": {},
   "outputs": [
    {
     "name": "stdout",
     "output_type": "stream",
     "text": [
      "[None, None, 'degrees_east', 'degrees_north', 'UTC', 'millibars', 'degrees true', 'knots', 'knots', 'meters', 'seconds', 'degrees_true', 'meters', 'degrees_C', 'degrees_C', 'degrees_C', 'dimensionless', 'percent', 'degrees', 'degrees_true', 'seconds', None]\n"
     ]
    }
   ],
   "source": [
    "column_units = json_file[\"table\"][\"columnUnits\"]\n",
    "print(column_units)"
   ]
  },
  {
   "cell_type": "code",
   "execution_count": 29,
   "id": "89cea158",
   "metadata": {},
   "outputs": [
    {
     "name": "stdout",
     "output_type": "stream",
     "text": [
      "station_id : None\n",
      "CallSign : None\n",
      "longitude : degrees_east\n",
      "latitude : degrees_north\n",
      "time : UTC\n",
      "AtmosphericPressure : millibars\n",
      "WindDirection : degrees true\n",
      "WindSpeed : knots\n",
      "Gust : knots\n",
      "WaveHeight : meters\n",
      "WavePeriod : seconds\n",
      "MeanWaveDirection : degrees_true\n",
      "Hmax : meters\n",
      "AirTemperature : degrees_C\n",
      "DewPoint : degrees_C\n",
      "SeaTemperature : degrees_C\n",
      "salinity : dimensionless\n",
      "RelativeHumidity : percent\n",
      "SprTp : degrees\n",
      "ThTp : degrees_true\n",
      "Tp : seconds\n",
      "QC_Flag : None\n"
     ]
    }
   ],
   "source": [
    "units_dict = dict(zip(column_names, column_units))\n",
    "\n",
    "for key, value in units_dict.items():\n",
    "    print(f'{key} : {value}')"
   ]
  },
  {
   "cell_type": "code",
   "execution_count": null,
   "id": "746e5f58",
   "metadata": {},
   "outputs": [],
   "source": []
  }
 ],
 "metadata": {
  "kernelspec": {
   "display_name": "Python 3 (ipykernel)",
   "language": "python",
   "name": "python3"
  },
  "language_info": {
   "codemirror_mode": {
    "name": "ipython",
    "version": 3
   },
   "file_extension": ".py",
   "mimetype": "text/x-python",
   "name": "python",
   "nbconvert_exporter": "python",
   "pygments_lexer": "ipython3",
   "version": "3.11.5"
  }
 },
 "nbformat": 4,
 "nbformat_minor": 5
}
